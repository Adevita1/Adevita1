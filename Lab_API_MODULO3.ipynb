{
  "cells": [
    {
      "cell_type": "markdown",
      "metadata": {
        "id": "view-in-github",
        "colab_type": "text"
      },
      "source": [
        "<a href=\"https://colab.research.google.com/github/Adevita1/Adevita1/blob/main/Lab_API_MODULO3.ipynb\" target=\"_parent\"><img src=\"https://colab.research.google.com/assets/colab-badge.svg\" alt=\"Open In Colab\"/></a>"
      ]
    },
    {
      "cell_type": "markdown",
      "metadata": {
        "id": "7Cx19tntEmmZ"
      },
      "source": [
        "# ACTIVIDAD INTEGRADORA\n",
        "\n",
        "\n",
        "# MÓDULO 3: Modelos de aprendizaje automático y implementación de modelos\n",
        "\n",
        "\n",
        "## Aprendizaje automático con Apache Spark - Notebook"
      ]
    },
    {
      "cell_type": "markdown",
      "metadata": {
        "id": "DMYLLlFMTTys"
      },
      "source": [
        "# Ejercicio : Filtrado Colaborativo o sistema de recomendación"
      ]
    },
    {
      "cell_type": "markdown",
      "metadata": {
        "id": "tFBEgOs2Emmd"
      },
      "source": [
        "En esta actividad se utilizarpan las componentes `pandas` y `numpy` que son librerías que reúnen muchas herramientas para manejo de dataframe, vectores y matrices, junto a ellas se utilizará la componente `ml.recommendation`\n",
        "\n",
        "Puedes ejecutar cada una de las celdas de código haciendo click en ellas y presionando `Shift + Enter`.\n",
        "\n",
        "También puedes editar cualquiera de estas celdas. Las celdas no son independientes. Es decir, sí importa el orden en el que las ejecutes, y cualquier cambio que hagas se reflejará en las celdas que ejecutes después.\n"
      ]
    },
    {
      "cell_type": "markdown",
      "metadata": {
        "id": "PmsG1munEmme"
      },
      "source": [
        "# Filtrado Coalborativo\n",
        "\n",
        "\n",
        "> Definición:\n",
        "\n",
        "\n",
        "El filtrado colaborativo es una técnica utilizada por los sistemas de recomendación para solventar los problemas derivados de la sobreinformación que los consumidores sufren en Internet. Esta tendencia crece cada día más, debido a su enorme funcionalidad son más los usuarios que se valen de esta herramienta en sus búsquedas.\n",
        "\n",
        "\n",
        "`Existen diferentes tipos de filtrado a la hora de establecer las recomendaciones, se pueden clasificar en cuatro:`\n",
        "\n",
        "- Filtrados basado en contenido: las recomendaciones se hacen según los contenidos que puedan gustar o interesar.\n",
        "\n",
        "- Filtrados demográficos: se realizan por las características de los usuarios (edad, sexo, estudios…).\n",
        "\n",
        "- Filtrados colaborativos: las recomendaciones están basadas en las búsquedas con votos positivos de usuarios similares.\n",
        "\n",
        "- Filtrados híbridos: mezclan los dos o tres de los filtrados anteriores para una mejor experiencia.\n",
        "\n",
        "\n",
        "`y se tienen dos enfoques distintos para emplear el filtrado colaborativo:`\n",
        "\n",
        "- El filtrado basado en la memoria calcula las similitudes entre los productos o los usuarios.\n",
        "\n",
        "- El filtrado basado en modelos intenta aprender el patrón subyacente que dicta cómo los usuarios califican o interactúan con los elementos."
      ]
    },
    {
      "cell_type": "markdown",
      "metadata": {
        "id": "9sPz0o1rEmme"
      },
      "source": [
        "\n",
        "\n",
        "> Actividad Integradora\n",
        "\n",
        "\n",
        "En la actividad se refuerzan los conceptos de _aprendizaje supervisado, además de la utilización de la componente `ml.recommendation` que implementa el algoritmo de los mínimos cuadrados alternos (ALS) para entrenar los modelos de nuestro primer Filtrado Colaborativo.\n",
        "\n",
        "\n",
        "> Enunciado del problema\n",
        "\n",
        "Uno de los usos más comunes del big data es predecir lo que quieren los usuarios. Esto permite que Google le muestre anuncios relevantes, Amazon le recomiende productos relevantes y Netflix le recomiende películas que le puedan gustar. Esta práctica de laboratorio demostrará cómo podemos usar Apache Spark para recomendar películas a un usuario. Comenzaremos con algunas técnicas básicas y luego usaremos el método de mínimos cuadrados alternos de la biblioteca Spark ML para hacer predicciones más sofisticadas.\n",
        "\n",
        "Para esta práctica de laboratorio, utilizaremos un subconjunto de datos de calificaciones. Sin embargo, el mismo código que escriba también funcionará en el conjunto de datos completo (aunque ejecutarlo con el conjunto de datos completo en Community Edition probablemente lleve bastante tiempo).\n",
        "\n",
        "\n",
        "Cargamos el dataset de películas que podemos obtener en el sitio: https://grouplens.org/datasets/movielens/\n",
        "\n",
        "![](http://spark-mooc.github.io/web-assets/images/cs110x/movie-camera.png)"
      ]
    },
    {
      "cell_type": "code",
      "execution_count": 1,
      "metadata": {
        "id": "tz19Y4CmEmmf"
      },
      "outputs": [],
      "source": [
        "#Instalar Dependencias:\n",
        "#1.   Java 8\n",
        "#2.   Apache Spark con hadoop y\n",
        "#3.   Findspark (usado para localizar spark en el sistema)\n",
        "\n",
        "!apt-get install openjdk-8-jdk-headless -qq > /dev/null\n",
        "!wget -q http://archive.apache.org/dist/spark/spark-3.1.1/spark-3.1.1-bin-hadoop3.2.tgz\n",
        "!tar xf spark-3.1.1-bin-hadoop3.2.tgz\n",
        "!pip install -q findspark"
      ]
    },
    {
      "cell_type": "code",
      "execution_count": 2,
      "metadata": {
        "id": "83nXyUvIEmmg"
      },
      "outputs": [],
      "source": [
        "# Seteamos variables de ambiente\n",
        "import os\n",
        "os.environ[\"JAVA_HOME\"] = \"/usr/lib/jvm/java-8-openjdk-amd64\"\n",
        "os.environ[\"SPARK_HOME\"] = \"/content/spark-3.1.1-bin-hadoop3.2\""
      ]
    },
    {
      "cell_type": "code",
      "execution_count": 3,
      "metadata": {
        "colab": {
          "base_uri": "https://localhost:8080/"
        },
        "id": "kRdqwahHEmmh",
        "outputId": "2812221e-c7e3-4fcc-8d1a-b48677d72544"
      },
      "outputs": [
        {
          "output_type": "stream",
          "name": "stdout",
          "text": [
            "drive\t    ratings.csv  spark-3.1.1-bin-hadoop3.2\n",
            "movies.csv  sample_data  spark-3.1.1-bin-hadoop3.2.tgz\n"
          ]
        }
      ],
      "source": [
        "# Validamos que spark este cargado\n",
        "!ls"
      ]
    },
    {
      "cell_type": "markdown",
      "metadata": {
        "id": "RGhFNCEZEmmh"
      },
      "source": [
        "Se crea la instancia de spark, utilizando `findspark`, donde podemos comprobar la ruta de donde se carga el spark con `findspark.find()`."
      ]
    },
    {
      "cell_type": "code",
      "execution_count": 4,
      "metadata": {
        "colab": {
          "base_uri": "https://localhost:8080/",
          "height": 35
        },
        "id": "AI5plV1JEmmh",
        "outputId": "95def09b-acdd-4b86-d987-9dda318be6b9"
      },
      "outputs": [
        {
          "output_type": "execute_result",
          "data": {
            "text/plain": [
              "'/content/spark-3.1.1-bin-hadoop3.2'"
            ],
            "application/vnd.google.colaboratory.intrinsic+json": {
              "type": "string"
            }
          },
          "metadata": {},
          "execution_count": 4
        }
      ],
      "source": [
        "# Inicializar contexto spark\n",
        "import findspark\n",
        "findspark.init()\n",
        "\n",
        "import pyspark\n",
        "sc = pyspark.SparkContext(appName=\"rating\")\n",
        "\n",
        "from pyspark.sql import SQLContext, SparkSession\n",
        "sq = SQLContext(sc)\n",
        "spark = SparkSession(sc)\n",
        "findspark.find()"
      ]
    },
    {
      "cell_type": "markdown",
      "metadata": {
        "id": "UDQzea-mkmKm"
      },
      "source": [
        "#### Montar nuestro Drive y cargar el archivo desde el drive"
      ]
    },
    {
      "cell_type": "code",
      "execution_count": 5,
      "metadata": {
        "colab": {
          "base_uri": "https://localhost:8080/"
        },
        "id": "azH-m9O_krwW",
        "outputId": "27a41b5f-50fb-425e-a7aa-0ade4bf739a1"
      },
      "outputs": [
        {
          "output_type": "stream",
          "name": "stdout",
          "text": [
            "Drive already mounted at /content/drive; to attempt to forcibly remount, call drive.mount(\"/content/drive\", force_remount=True).\n"
          ]
        }
      ],
      "source": [
        "# Cargar archivos\n",
        "from google.colab import drive\n",
        "drive.mount('/content/drive')\n",
        "\n",
        "movies_arch = '/content/movies.csv'\n",
        "rating_arch = '/content/ratings.csv'"
      ]
    },
    {
      "cell_type": "markdown",
      "metadata": {
        "id": "leYoeDxAEmmi"
      },
      "source": [
        "Los archivos tienen la siguiente información\n",
        "\n",
        "Archivo movies:\n",
        "\n",
        "- `movieId`: identificación de la película\n",
        "\n",
        "- `title`: nombre de la película\n",
        "\n",
        "- `genres`: género de la película\n",
        "\n",
        "Archivo ratings:\n",
        "\n",
        "- `user_id`: identificación del usuario\n",
        "\n",
        "- `movieId`: identificación de la película\n",
        "\n",
        "- `rating`: es la votación para la película de un usuario, está en una escala de 1-10 donde 10 es mejor (solo calificaciones enteras)\n"
      ]
    },
    {
      "cell_type": "code",
      "execution_count": 6,
      "metadata": {
        "colab": {
          "base_uri": "https://localhost:8080/"
        },
        "id": "qpOTzbzUEmmi",
        "outputId": "0c4a09b6-945a-4942-85a9-5e6596f1cf89"
      },
      "outputs": [
        {
          "output_type": "stream",
          "name": "stdout",
          "text": [
            "+-------+--------------------+--------------------+\n",
            "|movieId|               title|              genres|\n",
            "+-------+--------------------+--------------------+\n",
            "|      1|    Toy Story (1995)|Adventure|Animati...|\n",
            "|      2|      Jumanji (1995)|Adventure|Childre...|\n",
            "|      3|Grumpier Old Men ...|      Comedy|Romance|\n",
            "+-------+--------------------+--------------------+\n",
            "only showing top 3 rows\n",
            "\n",
            "root\n",
            " |-- movieId: integer (nullable = true)\n",
            " |-- title: string (nullable = true)\n",
            " |-- genres: string (nullable = true)\n",
            "\n",
            "+-------+-------+------+\n",
            "|user_id|movieId|rating|\n",
            "+-------+-------+------+\n",
            "|      1|      1|   4.0|\n",
            "|      1|      3|   4.0|\n",
            "|      1|      6|   4.0|\n",
            "+-------+-------+------+\n",
            "only showing top 3 rows\n",
            "\n",
            "root\n",
            " |-- user_id: integer (nullable = true)\n",
            " |-- movieId: integer (nullable = true)\n",
            " |-- rating: float (nullable = true)\n",
            "\n",
            "hay 100836 clasificaciones y 9742 películas en datasets.\n"
          ]
        }
      ],
      "source": [
        "# Cargando el set de datos\n",
        "from pyspark.sql.types import IntegerType, FloatType, StructType, StructField, StringType\n",
        "schema = StructType([StructField(\"movieId\", IntegerType()),\n",
        "                     StructField(\"title\", StringType()),\n",
        "                     StructField(\"genres\", StringType())])\n",
        "df_movies = spark.read.csv(movies_arch, header=True, inferSchema = True, schema=schema);\n",
        "df_movies.show(3)\n",
        "df_movies.printSchema()\n",
        "\n",
        "from pyspark.sql.types import IntegerType, StructType, StructField, StringType\n",
        "schema_gender = StructType([StructField(\"user_id\", IntegerType()),\n",
        "                            StructField(\"movieId\", IntegerType()),\n",
        "                             StructField(\"rating\", FloatType())])\n",
        "df_rating = spark.read.csv(rating_arch, header=True, inferSchema = True, schema=schema_gender);\n",
        "df_rating.show(3)\n",
        "df_rating.printSchema()\n",
        "\n",
        "ratingsCount = df_rating.count()\n",
        "moviesCount = df_movies.count()\n",
        "\n",
        "print('hay {0} clasificaciones y {1} películas en datasets.'.format(ratingsCount, moviesCount))"
      ]
    },
    {
      "cell_type": "markdown",
      "metadata": {
        "id": "Ernt9YleEmmi"
      },
      "source": [
        "# Normalización:\n",
        "\n",
        "El método que se utilizará para normalizar es el `MinMaxScaler` de la componente `pyspark.ml.feature`. Este método estadisticamente realiza la normalización de la siguiente manera:\n",
        "\n",
        "`MinMaxScaler` transforma un conjunto de datos de filas de vectores, normalizando cada característica individualmente de modo que esté en el rango dado. Toma parámetros:\n",
        "\n",
        "1.- `min`: 0.0 por defecto. Límite inferior después de la transformación, compartido por todas las características.\n",
        "\n",
        "2.- `max`: 1.0 por defecto. Límite superior después de la transformación, compartido por todas las características.\n",
        "\n",
        "\n",
        "Nota: `Para utilizar los escalamientos debemos realizar las transformaciones de variables a vectores y una vez escalado volvemos a dejar la variable como antes para continuar nuestra ejecución.`"
      ]
    },
    {
      "cell_type": "code",
      "execution_count": 7,
      "metadata": {
        "colab": {
          "base_uri": "https://localhost:8080/"
        },
        "id": "foa9u7CcEmmj",
        "outputId": "4d9cd5b0-b73f-46a0-f132-f4c8942d84e9"
      },
      "outputs": [
        {
          "output_type": "stream",
          "name": "stdout",
          "text": [
            "DataFrame[user_id: int, movieId: int, rating: float, features: vector]\n"
          ]
        }
      ],
      "source": [
        "# Vectorizando\n",
        "from pyspark.ml.feature import VectorAssembler\n",
        "\n",
        "vector_features = VectorAssembler(inputCols=[\"rating\"], outputCol=\"features\")\n",
        "df_rating_vec = vector_features.transform(df_rating)\n",
        "print(df_rating_vec)"
      ]
    },
    {
      "cell_type": "code",
      "execution_count": 8,
      "metadata": {
        "id": "94llEeHWEmmj"
      },
      "outputs": [],
      "source": [
        "# Normalizando valores\n",
        "from pyspark.ml.feature import MinMaxScaler\n",
        "\n",
        "standardizer = MinMaxScaler(min=0.0, max=1.0,\n",
        "                              inputCol='features',\n",
        "                              outputCol='norm_rating')\n",
        "modelstd = standardizer.fit(df_rating_vec)\n",
        "df_rating_norm = modelstd.transform(df_rating_vec)"
      ]
    },
    {
      "cell_type": "code",
      "execution_count": 9,
      "metadata": {
        "colab": {
          "base_uri": "https://localhost:8080/"
        },
        "id": "Q0D2OksfEmmj",
        "outputId": "47c4d686-b10d-4dcb-9edf-f4dc7f7bdcbe"
      },
      "outputs": [
        {
          "output_type": "stream",
          "name": "stdout",
          "text": [
            "+-------+-------+------+--------+------------------+\n",
            "|user_id|movieId|rating|features|       norm_rating|\n",
            "+-------+-------+------+--------+------------------+\n",
            "|      1|      1|   4.0|   [4.0]|0.7777777777777777|\n",
            "|      1|      3|   4.0|   [4.0]|0.7777777777777777|\n",
            "|      1|      6|   4.0|   [4.0]|0.7777777777777777|\n",
            "|      1|     47|   5.0|   [5.0]|               1.0|\n",
            "|      1|     50|   5.0|   [5.0]|               1.0|\n",
            "+-------+-------+------+--------+------------------+\n",
            "only showing top 5 rows\n",
            "\n"
          ]
        }
      ],
      "source": [
        "# Mostrar la normalización\n",
        "from pyspark.ml.functions import vector_to_array\n",
        "from pyspark.sql.functions import col\n",
        "\n",
        "# Convertimos la columna vectorial 'norm_rating' a array y tomamos el primer valor\n",
        "df_rating_norm = df_rating_norm.withColumn(\"norm_rating\", vector_to_array(\"norm_rating\")[0])\n",
        "df_rating_norm.show(5)\n"
      ]
    },
    {
      "cell_type": "markdown",
      "metadata": {
        "id": "glaR5piAEmmj"
      },
      "source": [
        "# Graficamos la distribución de rating:\n",
        "\n",
        "Realizamos el gráfico mediante `violin plot` para ver la distribución de los 10.000 primeras marcas de rating\n",
        "\n",
        "Dato: El `violin plot` combina la funcionalidad del box plot -mostrando los cuartiles de la distribución- y la de la estimación de densidad kernel.\n",
        "\n",
        "https://seaborn.pydata.org/generated/seaborn.violinplot.html"
      ]
    },
    {
      "cell_type": "code",
      "execution_count": 10,
      "metadata": {
        "colab": {
          "base_uri": "https://localhost:8080/",
          "height": 447
        },
        "id": "tZ_d0HmkEmmj",
        "outputId": "1d803c25-b711-4e71-a3bc-110377af77b4"
      },
      "outputs": [
        {
          "output_type": "execute_result",
          "data": {
            "text/plain": [
              "<Axes: >"
            ]
          },
          "metadata": {},
          "execution_count": 10
        },
        {
          "output_type": "display_data",
          "data": {
            "text/plain": [
              "<Figure size 640x480 with 1 Axes>"
            ],
            "image/png": "[encoded data removed]"
          },
          "metadata": {}
        }
      ],
      "source": [
        "import pandas as pd\n",
        "import seaborn as sns\n",
        "# Convertir Spark dataframe en pandas para graficar la distribución\n",
        "pandas_df = df_rating_norm.limit(10000).toPandas()\n",
        "sns.violinplot([pandas_df.norm_rating])"
      ]
    },
    {
      "cell_type": "markdown",
      "metadata": {
        "id": "LxYen9-CEmmj"
      },
      "source": [
        "# Set de entranamiento, validación y pruebas\n",
        "\n",
        "Para nuestro caso crearemos un set de entranamiento, uno de validación y uno de pruebas, donde:\n",
        "\n",
        "- Training set (DataFrame), se utilizará para entrenar el modelo\n",
        "\n",
        "- Validation set (DataFrame), se utilizará para elegir el mejor modelo, validando lo obtenido en el entrenamiento.\n",
        "\n",
        "- Test set (DataFrame), Se utilizará para ejecutar nuestro entrenamiento.\n",
        "\n",
        "Entonces:"
      ]
    },
    {
      "cell_type": "code",
      "execution_count": 11,
      "metadata": {
        "colab": {
          "base_uri": "https://localhost:8080/"
        },
        "id": "uucX788CEmmk",
        "outputId": "96f19e6e-0dc0-4f8b-f821-de9b526519f2"
      },
      "outputs": [
        {
          "output_type": "stream",
          "name": "stdout",
          "text": [
            "Training: 64323, val: 16255, test: 20258\n"
          ]
        }
      ],
      "source": [
        "# Tomaremos un set de entrenamiento del 60%, 20% para el set de validación y 20% para el set de pruebas\n",
        "seed=42\n",
        "(trainingDFT, testDF) = df_rating_norm.randomSplit([0.8, 0.2], seed=seed)\n",
        "(trainingDF, valDF) = trainingDFT.randomSplit([0.8, 0.2], seed=seed)\n",
        "\n",
        "print('Training: {0}, val: {1}, test: {2}'.format(trainingDF.count(), valDF.count(), testDF.count()))"
      ]
    },
    {
      "cell_type": "markdown",
      "metadata": {
        "id": "tjZFTVIJEmmk"
      },
      "source": [
        "# Entrenamiento\n",
        "\n",
        "Utilizaremos el filtrado colaborativo basado en modelos:\n",
        "\n",
        "![](https://courses.edx.org/c4x/BerkeleyX/CS100.1x/asset/Collaborative_filtering.gif)\n",
        "\n",
        "Para entrenar el modelo utilizaremos la componente **pyspark.ml.recommendation import ALS**, la definición de la misma en la figura:\n",
        "\n",
        "![](http://spark-mooc.github.io/web-assets/images/matrix_factorization.png)"
      ]
    },
    {
      "cell_type": "markdown",
      "metadata": {
        "id": "25b8IMjUEmmk"
      },
      "source": [
        "# Selección del modelo\n",
        "\n",
        "El proceso de selección del modelo se realizará a través del análisis de validación cruzada manual y en base a la componente `pyspark.ml.tuning import CrossValidator` (cross-validation) con ajuste automático de hiperparámetros.\n",
        "Este ajuste se hace definiendo los posibles valores de los hiperparámetros del modelo y ejecutando una búsqueda en rejilla (grid-search) sobre éstas, para comparar la respuesta de los modelos resultantes y finalmente obtener el óptimo. Los hiperparámetros del modelo ALS son:\n",
        "\n",
        "- rank = la cantidad de factores latentes en el modelo (4, 8 y 12 como valores seleccionados)\n",
        "- maxIter = el número máximo de iteraciones (valor predeterminado)\n",
        "- regParam = el parámetro de regularización (0.1, 0.05 y 0.01 como valores seleccionados)\n",
        "\n",
        "Utilizaremos como medida el mse (mean squared error) para elegir el modelo de menor mse.\n",
        "\n",
        "`Mean squared error (MSE):` En estadística, el error cuadrático medio (ECM) de un estimador mide el promedio de los errores al cuadrado, es decir, la diferencia entre el estimador y lo que se estima. El ECM es una función de riesgo, correspondiente al valor esperado de la pérdida del error al cuadrado o pérdida cuadrática. La diferencia se produce debido a la aleatoriedad o porque el estimador no tiene en cuenta la información que podría producir una estimación más precisa.\n",
        "\n",
        "![](https://wikimedia.org/api/rest_v1/media/math/render/svg/53ab02a5a1847aa3ff5c6eb69b4023bfb73655f5)"
      ]
    },
    {
      "cell_type": "code",
      "execution_count": 12,
      "metadata": {
        "colab": {
          "base_uri": "https://localhost:8080/"
        },
        "id": "c4WkYrTkEmmk",
        "outputId": "903be845-7f0a-4e9a-d2e4-e20babe0d805"
      },
      "outputs": [
        {
          "output_type": "stream",
          "name": "stdout",
          "text": [
            "Para el rango %s y regularización %s de RMSE es %s (4, 0.1, 0.04741035204411579)\n",
            "Para el rango %s y regularización %s de RMSE es %s (4, 0.05, 0.04033788537117576)\n",
            "Para el rango %s y regularización %s de RMSE es %s (4, 0.01, 0.045554402144107047)\n",
            "Para el rango %s y regularización %s de RMSE es %s (8, 0.1, 0.04756099252031394)\n",
            "Para el rango %s y regularización %s de RMSE es %s (8, 0.05, 0.04058480202907869)\n",
            "Para el rango %s y regularización %s de RMSE es %s (8, 0.01, 0.0485806202809402)\n",
            "Para el rango %s y regularización %s de RMSE es %s (12, 0.1, 0.047680007524914025)\n",
            "Para el rango %s y regularización %s de RMSE es %s (12, 0.05, 0.04037634868015432)\n",
            "Para el rango %s y regularización %s de RMSE es %s (12, 0.01, 0.048675163792257455)\n",
            "El mejor modelo fue entrenado con rango 4 y regularización 0.05 y el error mínimo es 0.04033788537117576\n"
          ]
        }
      ],
      "source": [
        "from pyspark.ml.recommendation import ALS\n",
        "from pyspark.ml.evaluation import RegressionEvaluator\n",
        "import numpy as np\n",
        "\n",
        "# Inicializamos nuestro aprendizaje con ALS()\n",
        "als = ALS()\n",
        "als.setNonnegative\n",
        "# seteamos los parámetros con que se entrenará el modelo\n",
        "als.setMaxIter(5)\\\n",
        "   .setSeed(10)\\\n",
        "   .setUserCol(\"user_id\")\\\n",
        "   .setItemCol(\"movieId\")\\\n",
        "   .setRatingCol(\"norm_rating\")\\\n",
        "   .setPredictionCol(\"predictions\")\\\n",
        "   .setColdStartStrategy(\"drop\")\\\n",
        "   .setNonnegative=True\n",
        "\n",
        "regEval = RegressionEvaluator(predictionCol=\"predictions\", labelCol=\"norm_rating\", metricName=\"mse\")\n",
        "\n",
        "ranks = [4, 8, 12]\n",
        "errors = [0, 0, 0]\n",
        "models = np.matrix(np.zeros(shape=(3,3), dtype=list))\n",
        "regparams = [0.1, 0.05, 0.01]\n",
        "err = 0\n",
        "min_error = float('inf')\n",
        "best_rank = -1\n",
        "for rank in ranks:\n",
        "  # Seteamos el ranking\n",
        "  als.setRank(rank)\n",
        "  reg = 0\n",
        "  for regparam in regparams:\n",
        "      # Crear el modelo con los parámetros\n",
        "      als.setRegParam(regparam)\n",
        "      # Entrenar el modelo con el set de entrenamiento\n",
        "      model = als.fit(trainingDF)\n",
        "      # ejecutar la predicción con el set de pruebas\n",
        "      predict_df = model.transform(valDF)\n",
        "\n",
        "      # Eliminar los valores NaN de las predicciones (due to SPARK-14489)\n",
        "      predicted_ratings_df = predict_df.filter(predict_df.predictions != float('nan'))\n",
        "\n",
        "      # Ejecutar evaluador RMSE, sobre el dataframe de predicciones predicted_ratings_df\n",
        "      error = regEval.evaluate(predicted_ratings_df)\n",
        "      errors[err] = error\n",
        "      models[err,reg] = model\n",
        "      print(\"Para el rango %s y regularización %s de RMSE es %s\",(rank, regparam, error))\n",
        "      if error < min_error:\n",
        "        min_error = error\n",
        "        best_rank = err\n",
        "        best_regp = reg\n",
        "      reg += 1\n",
        "  err += 1\n",
        "\n",
        "als.setRank(ranks[best_rank])\n",
        "als.setRegParam(regparams[best_regp])\n",
        "print(\"El mejor modelo fue entrenado con rango %s y regularización %s y el error mínimo es %s\" % (ranks[best_rank], regparams[best_regp], min_error))\n",
        "my_model = models[best_rank,best_regp]"
      ]
    },
    {
      "cell_type": "markdown",
      "metadata": {
        "id": "6b72psKh0otj"
      },
      "source": [
        "**Ejecución Opcional dado que demora demasiado tiempo para entregar respuesta**\n",
        "\n",
        "--------------------------------------------------------------------------------"
      ]
    },
    {
      "cell_type": "code",
      "execution_count": 13,
      "metadata": {
        "colab": {
          "base_uri": "https://localhost:8080/"
        },
        "id": "62Uh7YgdEmml",
        "outputId": "04705e63-d1e2-4be4-d673-6d57c2443399"
      },
      "outputs": [
        {
          "output_type": "stream",
          "name": "stdout",
          "text": [
            "Mejor modelo de ALS: 12\n",
            "Mejor valor de regularización: 0.05\n",
            "Maximo de iteraciones: 5\n",
            "Error del mejor modelo: %s 0.04867516379225747\n"
          ]
        }
      ],
      "source": [
        "from pyspark.ml.tuning import CrossValidator, ParamGridBuilder\n",
        "\n",
        "alscv = ALS()\n",
        "alscv.setMaxIter(5)\\\n",
        "     .setUserCol(\"user_id\")\\\n",
        "     .setItemCol(\"movieId\")\\\n",
        "     .setRatingCol(\"norm_rating\")\\\n",
        "     .setPredictionCol(\"predictions\")\\\n",
        "     .setColdStartStrategy(\"drop\")\\\n",
        "     .setNonnegative=True\n",
        "\n",
        "paramGrid = ParamGridBuilder().addGrid(alscv.regParam, [0.1, 0.05, 0.01]).addGrid(alscv.rank, [4, 8, 12]).build()\n",
        "\n",
        "modelEvaluator = RegressionEvaluator(predictionCol=\"predictions\", labelCol=\"norm_rating\", metricName=\"mse\")\n",
        "\n",
        "crossval = CrossValidator(estimator=alscv,\n",
        "                          estimatorParamMaps=paramGrid,\n",
        "                          evaluator=modelEvaluator,\n",
        "                          numFolds=5)\n",
        "\n",
        "cvModel = crossval.fit(trainingDF)\n",
        "best_als_model = cvModel.bestModel\n",
        "predict_dfcv = best_als_model.transform(valDF)\n",
        "\n",
        "predicted_ratings_df = predict_df.filter(predict_df.predictions != float('nan'))\n",
        "\n",
        "errorcv = modelEvaluator.evaluate(predicted_ratings_df)\n",
        "\n",
        "print(\"Mejor modelo de ALS: \" + str(best_als_model.rank))\n",
        "print(\"Mejor valor de regularización: \" + str(best_als_model._java_obj.parent().getRegParam()))\n",
        "print(\"Maximo de iteraciones: \" + str(best_als_model._java_obj.parent().getMaxIter()))\n",
        "print(\"Error del mejor modelo: %s\",errorcv)"
      ]
    },
    {
      "cell_type": "code",
      "execution_count": 14,
      "metadata": {
        "colab": {
          "base_uri": "https://localhost:8080/"
        },
        "id": "2SU-kWweEmml",
        "outputId": "933b5499-fff0-40f2-b24d-23bd5d65ed44"
      },
      "outputs": [
        {
          "output_type": "stream",
          "name": "stdout",
          "text": [
            "Mejor modelo de cross validation manual ALSModel: uid=ALS_b758412110aa, rank=12\n"
          ]
        }
      ],
      "source": [
        "## Obtener el mejor modelo, si se ejecuta la validación cruzada se puede descomentar el código\n",
        "\n",
        "if min_error < errorcv:\n",
        "  model_final = best_als_model\n",
        "  print(\"Mejor modelo de cross validation manual\",  model_final)\n",
        "else:\n",
        "  model_final = my_model\n",
        "  print(\"Mejor modelo de cross validation Componente\",  model_final)\n",
        "\n"
      ]
    },
    {
      "cell_type": "markdown",
      "metadata": {
        "id": "ONwiW4JL1CzD"
      },
      "source": [
        "--------------------------------------------------------------------------------\n",
        "**Fin ejecución opcional**"
      ]
    },
    {
      "cell_type": "markdown",
      "metadata": {
        "id": "POMyzcuP1LAA"
      },
      "source": [
        "Si no fue ejecutado el bloque opcional, ejecutar lo siguiente"
      ]
    },
    {
      "cell_type": "code",
      "execution_count": 15,
      "metadata": {
        "id": "VfhGglKB1KT6",
        "colab": {
          "base_uri": "https://localhost:8080/"
        },
        "outputId": "a37e7c75-7045-42c6-ff6a-b33c595cc017"
      },
      "outputs": [
        {
          "output_type": "stream",
          "name": "stdout",
          "text": [
            "Mejor modelo de cross validation Componente ALSModel: uid=ALS_e74dcefb5430, rank=4\n"
          ]
        }
      ],
      "source": [
        "model_final = my_model\n",
        "print(\"Mejor modelo de cross validation Componente\",  model_final)"
      ]
    },
    {
      "cell_type": "markdown",
      "metadata": {
        "id": "4cnqKdT8Emml"
      },
      "source": [
        "# Evaluación de medidas\n",
        "\n",
        "Para validar efectividad del modelo también podemos obtener otras medidas que pueden ser útiles para comparar con la nuestra con el objetivo de validar la minimización del error en nuestro modelo, estas son:\n",
        "\n",
        "`Root Mean Square Error (RMSE):` es una forma estándar de medir el error de un modelo en la predicción de datos cuantitativos. Formalmente se define de la siguiente manera:\n",
        "\n",
        "![](https://miro.medium.com/max/966/1*lqDsPkfXPGen32Uem1PTNg.png)\n",
        "\n",
        "\n",
        "`Mean Absolute Error (MAE):` mide la magnitud promedio de los errores en un conjunto de predicciones, sin considerar su dirección. Es el promedio sobre la muestra de prueba de las diferencias absolutas entre la predicción y la observación real donde todas las diferencias individuales tienen el mismo peso.\n",
        "\n",
        "![](https://miro.medium.com/max/630/1*OVlFLnMwHDx08PHzqlBDag.gif)\n",
        "\n",
        "\n",
        "`r² metric:` en estadística, el coeficiente de determinación, denominado R² y pronunciado R cuadrado, es un estadístico usado en el contexto de un modelo estadístico cuyo principal propósito es predecir futuros resultados o probar una hipótesis. El coeficiente determina la calidad del modelo para replicar los resultados, y la proporción de variación de los resultados que puede explicarse por el modelo\n",
        "\n",
        "![](https://wikimedia.org/api/rest_v1/media/math/render/svg/999c9c8c995140c586aff2c9342301846011d44f)\n",
        "\n",
        "https://es.wikipedia.org/wiki/Coeficiente_de_determinaci%C3%B3n"
      ]
    },
    {
      "cell_type": "code",
      "execution_count": 16,
      "metadata": {
        "colab": {
          "base_uri": "https://localhost:8080/"
        },
        "id": "ICWJxv78Emml",
        "outputId": "6c909393-75ee-4ecd-dd82-def461195d53"
      },
      "outputs": [
        {
          "output_type": "stream",
          "name": "stdout",
          "text": [
            "Model evaluation on test data:\n",
            "Root-mean-square error (RMSE) = 0.20016336243655858\n",
            "r² metric = 0.2555516797452284\n",
            "Mean Absolute Error (MAE) = 0.15744558532807268\n"
          ]
        }
      ],
      "source": [
        "# Evalaución con mas medidas\n",
        "predict_dfT = model_final.transform(testDF)\n",
        "\n",
        "def medidas_evaluation(predictions):\n",
        "    # Model evaluation in test - ratings regression evaluation\n",
        "    print(\"Model evaluation on test data:\")\n",
        "    predictions = predictions.na.drop()\n",
        "    # RMSE\n",
        "    rmse_evaluator = RegressionEvaluator(metricName=\"rmse\", labelCol=\"norm_rating\", predictionCol=\"predictions\")\n",
        "    rmse = rmse_evaluator.evaluate(predictions)\n",
        "    print(\"Root-mean-square error (RMSE) = \" + str(rmse))\n",
        "    # R2\n",
        "    r2_evaluator = RegressionEvaluator(metricName=\"r2\", labelCol=\"norm_rating\", predictionCol=\"predictions\")\n",
        "    r2 = r2_evaluator.evaluate(predictions)\n",
        "    print(\"r² metric = \" + str(r2))\n",
        "    # MAE\n",
        "    mae_evaluator = RegressionEvaluator(metricName=\"mae\", labelCol=\"norm_rating\", predictionCol=\"predictions\")\n",
        "    mae = mae_evaluator.evaluate(predictions)\n",
        "    print(\"Mean Absolute Error (MAE) = \" + str(mae))\n",
        "\n",
        "    return [rmse, r2, mae]\n",
        "\n",
        "random_test_eval = medidas_evaluation(predict_dfT)\n",
        "\n"
      ]
    },
    {
      "cell_type": "markdown",
      "metadata": {
        "id": "yYRM0zDiEmml"
      },
      "source": [
        "# Recomendaciones\n",
        "\n",
        "Finalmente con el modelo ya entrenado podemos validar las recomendaciones, para ello crearemos una función que nos permitirá realizar:\n",
        "\n",
        "`Recomendación por Usuarios`: Ser realizará una recomendación por una cantidad de usuarios.\n",
        "\n",
        "`Recomendación de películas para usuarios`: Se realizará una recomendación de película para un grupo de usuarios\n",
        "\n",
        "`Recomendación para un usuario en particular`: Se realizará una recomendación de películas para un usuario en particular\n",
        "\n",
        "`Recomendación de película en particular para usuarios`: Se realizará recomendación de 1 película en particular para usuarios"
      ]
    },
    {
      "cell_type": "code",
      "execution_count": 17,
      "metadata": {
        "id": "lsuYtlotEmml"
      },
      "outputs": [],
      "source": [
        "##Mostrar recomendación es una función que retorna el despliegue de datos recomendados por identificación.\n",
        "##Variables de entrada son:\n",
        "## Modelo: Modelo entrenado\n",
        "## df_2: es el dataframe complemento, que no se entreno pero que nos entrega información.\n",
        "## ident: Es el identificador de lo que queremos desplegar (columna de la predicción)\n",
        "## Cantidad: Corresponde a la cantidad de datos que desplegará.\n",
        "## Cantidad_recomendacion: Corresponde a la cantidad de recomendaciones por dato.\n",
        "## tipo: Si la recomendación será por \"Usuario\" o por \"película\"\n",
        "## variable: Corresponde a un dato opcional, que se ingresa cuando queremos recomendar para un dato en particular o película\n",
        "##o usuario\n",
        "\n",
        "def mostrar_recomendacion(modelo, df_2, ident, cantidad, cantidad_recomendacion, tipo, variable = 0):\n",
        "    datodf = df_2.toPandas()\n",
        "    if tipo == 'Usuario':\n",
        "        arrayrecomend = modelo.recommendForAllUsers(cantidad_recomendacion)\n",
        "        arrayuser = modelo.recommendForAllUsers(cantidad_recomendacion).select(ident)\n",
        "        if variable > 0:\n",
        "            recomend = np.array(arrayrecomend.select('recommendations').where(arrayrecomend[ident] == variable).collect(), dtype=int)\n",
        "            dato = np.array(arrayuser.where(arrayuser[ident] == variable).collect(), dtype=int)\n",
        "        else:\n",
        "            recomend = np.array(arrayrecomend.select('recommendations').collect(), dtype=int)\n",
        "            dato = np.array(arrayuser.collect(), dtype=int)\n",
        "\n",
        "        recomend_data  = recomend[:, 0, :, 0]\n",
        "        matrizrecomendacion = np.append(dato,recomend_data, axis = 1)\n",
        "        #print(matrizrecomendacion)\n",
        "        nombre = 'Recomendacion'\n",
        "        recomendacion = pd.DataFrame({tipo: matrizrecomendacion[:cantidad, 0]})\n",
        "        for j in range(1, cantidad_recomendacion+1):\n",
        "            pelicula = []\n",
        "            for i in range(cantidad):\n",
        "                pelicula.append(datodf['title'][datodf['movieId']==matrizrecomendacion[i, j]].iloc[0])\n",
        "\n",
        "            recomendacion[nombre+str(j)] = pelicula\n",
        "    else:\n",
        "        arrayrecomend = modelo.recommendForAllItems(cantidad_recomendacion)\n",
        "        arrayuser = modelo.recommendForAllItems(cantidad_recomendacion).select(ident)\n",
        "        if variable > 0:\n",
        "            recomend = np.array(arrayrecomend.select('recommendations').where(arrayrecomend[ident] == variable).collect(), dtype=int)\n",
        "            dato = np.array(arrayuser.where(arrayuser[ident] == variable).collect(), dtype=int)\n",
        "        else:\n",
        "            recomend = np.array(arrayrecomend.select('recommendations').collect(), dtype=int)\n",
        "            dato = np.array(arrayuser.collect(), dtype=int)\n",
        "\n",
        "        recomend_data  = recomend[:, 0, :, 0]\n",
        "        nombre = 'Recomendacion'\n",
        "        recomendacion = pd.DataFrame({tipo: dato[:cantidad, 0]})\n",
        "        init =0\n",
        "        for i in range(init, cantidad):\n",
        "            if i == init:\n",
        "                recomendacion[\"Nombre\"] = None\n",
        "            recomendacion[\"Nombre\"].loc[i] = datodf['title'][datodf['movieId']==int(dato[i])].iloc[0]\n",
        "            for j in range(cantidad_recomendacion):\n",
        "                if i == init:\n",
        "                    recomendacion[nombre+str(j+1)] = None\n",
        "                recomendacion[nombre+str(j+1)].loc[i] = recomend_data[i, j]\n",
        "\n",
        "    return recomendacion"
      ]
    },
    {
      "cell_type": "markdown",
      "metadata": {
        "id": "yQytyFnOEmmm"
      },
      "source": [
        "`Recomendación por Usuarios`, se realizará recomendación de 3 películas para 3 usuarios (se puede variar el número)"
      ]
    },
    {
      "cell_type": "code",
      "execution_count": 18,
      "metadata": {
        "colab": {
          "base_uri": "https://localhost:8080/",
          "height": 143
        },
        "id": "XBvNAFHMEmmm",
        "outputId": "fd6c430c-2c28-43c9-9e5f-1244bf10652e"
      },
      "outputs": [
        {
          "output_type": "display_data",
          "data": {
            "text/plain": [
              "   Usuario                                 Recomendacion1  \\\n",
              "0      471                           Reign Over Me (2007)   \n",
              "1      463  Andalusian Dog, An (Chien andalou, Un) (1929)   \n",
              "2      496                           Reign Over Me (2007)   \n",
              "\n",
              "                                      Recomendacion2  \\\n",
              "0                                Visitor, The (2007)   \n",
              "1                                   Jetée, La (1962)   \n",
              "2  Dragon Ball Z: The History of Trunks (Doragon ...   \n",
              "\n",
              "                                      Recomendacion3  \n",
              "0  Dragon Ball Z: The History of Trunks (Doragon ...  \n",
              "1  Dragon Ball Z: The History of Trunks (Doragon ...  \n",
              "2      Andalusian Dog, An (Chien andalou, Un) (1929)  "
            ],
            "text/html": [
              "\n",
              "  <div id=\"df-9fd819dd-ab32-4595-b01e-e9c1dfcc7609\" class=\"colab-df-container\">\n",
              "    <div>\n",
              "<style scoped>\n",
              "    .dataframe tbody tr th:only-of-type {\n",
              "        vertical-align: middle;\n",
              "    }\n",
              "\n",
              "    .dataframe tbody tr th {\n",
              "        vertical-align: top;\n",
              "    }\n",
              "\n",
              "    .dataframe thead th {\n",
              "        text-align: right;\n",
              "    }\n",
              "</style>\n",
              "<table border=\"1\" class=\"dataframe\">\n",
              "  <thead>\n",
              "    <tr style=\"text-align: right;\">\n",
              "      <th></th>\n",
              "      <th>Usuario</th>\n",
              "      <th>Recomendacion1</th>\n",
              "      <th>Recomendacion2</th>\n",
              "      <th>Recomendacion3</th>\n",
              "    </tr>\n",
              "  </thead>\n",
              "  <tbody>\n",
              "    <tr>\n",
              "      <th>0</th>\n",
              "      <td>471</td>\n",
              "      <td>Reign Over Me (2007)</td>\n",
              "      <td>Visitor, The (2007)</td>\n",
              "      <td>Dragon Ball Z: The History of Trunks (Doragon ...</td>\n",
              "    </tr>\n",
              "    <tr>\n",
              "      <th>1</th>\n",
              "      <td>463</td>\n",
              "      <td>Andalusian Dog, An (Chien andalou, Un) (1929)</td>\n",
              "      <td>Jetée, La (1962)</td>\n",
              "      <td>Dragon Ball Z: The History of Trunks (Doragon ...</td>\n",
              "    </tr>\n",
              "    <tr>\n",
              "      <th>2</th>\n",
              "      <td>496</td>\n",
              "      <td>Reign Over Me (2007)</td>\n",
              "      <td>Dragon Ball Z: The History of Trunks (Doragon ...</td>\n",
              "      <td>Andalusian Dog, An (Chien andalou, Un) (1929)</td>\n",
              "    </tr>\n",
              "  </tbody>\n",
              "</table>\n",
              "</div>\n",
              "    <div class=\"colab-df-buttons\">\n",
              "\n",
              "  <div class=\"colab-df-container\">\n",
              "    <button class=\"colab-df-convert\" onclick=\"convertToInteractive('df-9fd819dd-ab32-4595-b01e-e9c1dfcc7609')\"\n",
              "            title=\"Convert this dataframe to an interactive table.\"\n",
              "            style=\"display:none;\">\n",
              "\n",
              "  <svg xmlns=\"http://www.w3.org/2000/svg\" height=\"24px\" viewBox=\"0 -960 960 960\">\n",
              "    <path d=\"M120-120v-720h720v720H120Zm60-500h600v-160H180v160Zm220 220h160v-160H400v160Zm0 220h160v-160H400v160ZM180-400h160v-160H180v160Zm440 0h160v-160H620v160ZM180-180h160v-160H180v160Zm440 0h160v-160H620v160Z\"/>\n",
              "  </svg>\n",
              "    </button>\n",
              "\n",
              "  <style>\n",
              "    .colab-df-container {\n",
              "      display:flex;\n",
              "      gap: 12px;\n",
              "    }\n",
              "\n",
              "    .colab-df-convert {\n",
              "      background-color: #E8F0FE;\n",
              "      border: none;\n",
              "      border-radius: 50%;\n",
              "      cursor: pointer;\n",
              "      display: none;\n",
              "      fill: #1967D2;\n",
              "      height: 32px;\n",
              "      padding: 0 0 0 0;\n",
              "      width: 32px;\n",
              "    }\n",
              "\n",
              "    .colab-df-convert:hover {\n",
              "      background-color: #E2EBFA;\n",
              "      box-shadow: 0px 1px 2px rgba(60, 64, 67, 0.3), 0px 1px 3px 1px rgba(60, 64, 67, 0.15);\n",
              "      fill: #174EA6;\n",
              "    }\n",
              "\n",
              "    .colab-df-buttons div {\n",
              "      margin-bottom: 4px;\n",
              "    }\n",
              "\n",
              "    [theme=dark] .colab-df-convert {\n",
              "      background-color: #3B4455;\n",
              "      fill: #D2E3FC;\n",
              "    }\n",
              "\n",
              "    [theme=dark] .colab-df-convert:hover {\n",
              "      background-color: #434B5C;\n",
              "      box-shadow: 0px 1px 3px 1px rgba(0, 0, 0, 0.15);\n",
              "      filter: drop-shadow(0px 1px 2px rgba(0, 0, 0, 0.3));\n",
              "      fill: #FFFFFF;\n",
              "    }\n",
              "  </style>\n",
              "\n",
              "    <script>\n",
              "      const buttonEl =\n",
              "        document.querySelector('#df-9fd819dd-ab32-4595-b01e-e9c1dfcc7609 button.colab-df-convert');\n",
              "      buttonEl.style.display =\n",
              "        google.colab.kernel.accessAllowed ? 'block' : 'none';\n",
              "\n",
              "      async function convertToInteractive(key) {\n",
              "        const element = document.querySelector('#df-9fd819dd-ab32-4595-b01e-e9c1dfcc7609');\n",
              "        const dataTable =\n",
              "          await google.colab.kernel.invokeFunction('convertToInteractive',\n",
              "                                                    [key], {});\n",
              "        if (!dataTable) return;\n",
              "\n",
              "        const docLinkHtml = 'Like what you see? Visit the ' +\n",
              "          '<a target=\"_blank\" href=https://colab.research.google.com/notebooks/data_table.ipynb>data table notebook</a>'\n",
              "          + ' to learn more about interactive tables.';\n",
              "        element.innerHTML = '';\n",
              "        dataTable['output_type'] = 'display_data';\n",
              "        await google.colab.output.renderOutput(dataTable, element);\n",
              "        const docLink = document.createElement('div');\n",
              "        docLink.innerHTML = docLinkHtml;\n",
              "        element.appendChild(docLink);\n",
              "      }\n",
              "    </script>\n",
              "  </div>\n",
              "\n",
              "\n",
              "    <div id=\"df-1530e110-9209-4dd4-a5a4-52d07f0245de\">\n",
              "      <button class=\"colab-df-quickchart\" onclick=\"quickchart('df-1530e110-9209-4dd4-a5a4-52d07f0245de')\"\n",
              "                title=\"Suggest charts\"\n",
              "                style=\"display:none;\">\n",
              "\n",
              "<svg xmlns=\"http://www.w3.org/2000/svg\" height=\"24px\"viewBox=\"0 0 24 24\"\n",
              "     width=\"24px\">\n",
              "    <g>\n",
              "        <path d=\"M19 3H5c-1.1 0-2 .9-2 2v14c0 1.1.9 2 2 2h14c1.1 0 2-.9 2-2V5c0-1.1-.9-2-2-2zM9 17H7v-7h2v7zm4 0h-2V7h2v10zm4 0h-2v-4h2v4z\"/>\n",
              "    </g>\n",
              "</svg>\n",
              "      </button>\n",
              "\n",
              "<style>\n",
              "  .colab-df-quickchart {\n",
              "      --bg-color: #E8F0FE;\n",
              "      --fill-color: #1967D2;\n",
              "      --hover-bg-color: #E2EBFA;\n",
              "      --hover-fill-color: #174EA6;\n",
              "      --disabled-fill-color: #AAA;\n",
              "      --disabled-bg-color: #DDD;\n",
              "  }\n",
              "\n",
              "  [theme=dark] .colab-df-quickchart {\n",
              "      --bg-color: #3B4455;\n",
              "      --fill-color: #D2E3FC;\n",
              "      --hover-bg-color: #434B5C;\n",
              "      --hover-fill-color: #FFFFFF;\n",
              "      --disabled-bg-color: #3B4455;\n",
              "      --disabled-fill-color: #666;\n",
              "  }\n",
              "\n",
              "  .colab-df-quickchart {\n",
              "    background-color: var(--bg-color);\n",
              "    border: none;\n",
              "    border-radius: 50%;\n",
              "    cursor: pointer;\n",
              "    display: none;\n",
              "    fill: var(--fill-color);\n",
              "    height: 32px;\n",
              "    padding: 0;\n",
              "    width: 32px;\n",
              "  }\n",
              "\n",
              "  .colab-df-quickchart:hover {\n",
              "    background-color: var(--hover-bg-color);\n",
              "    box-shadow: 0 1px 2px rgba(60, 64, 67, 0.3), 0 1px 3px 1px rgba(60, 64, 67, 0.15);\n",
              "    fill: var(--button-hover-fill-color);\n",
              "  }\n",
              "\n",
              "  .colab-df-quickchart-complete:disabled,\n",
              "  .colab-df-quickchart-complete:disabled:hover {\n",
              "    background-color: var(--disabled-bg-color);\n",
              "    fill: var(--disabled-fill-color);\n",
              "    box-shadow: none;\n",
              "  }\n",
              "\n",
              "  .colab-df-spinner {\n",
              "    border: 2px solid var(--fill-color);\n",
              "    border-color: transparent;\n",
              "    border-bottom-color: var(--fill-color);\n",
              "    animation:\n",
              "      spin 1s steps(1) infinite;\n",
              "  }\n",
              "\n",
              "  @keyframes spin {\n",
              "    0% {\n",
              "      border-color: transparent;\n",
              "      border-bottom-color: var(--fill-color);\n",
              "      border-left-color: var(--fill-color);\n",
              "    }\n",
              "    20% {\n",
              "      border-color: transparent;\n",
              "      border-left-color: var(--fill-color);\n",
              "      border-top-color: var(--fill-color);\n",
              "    }\n",
              "    30% {\n",
              "      border-color: transparent;\n",
              "      border-left-color: var(--fill-color);\n",
              "      border-top-color: var(--fill-color);\n",
              "      border-right-color: var(--fill-color);\n",
              "    }\n",
              "    40% {\n",
              "      border-color: transparent;\n",
              "      border-right-color: var(--fill-color);\n",
              "      border-top-color: var(--fill-color);\n",
              "    }\n",
              "    60% {\n",
              "      border-color: transparent;\n",
              "      border-right-color: var(--fill-color);\n",
              "    }\n",
              "    80% {\n",
              "      border-color: transparent;\n",
              "      border-right-color: var(--fill-color);\n",
              "      border-bottom-color: var(--fill-color);\n",
              "    }\n",
              "    90% {\n",
              "      border-color: transparent;\n",
              "      border-bottom-color: var(--fill-color);\n",
              "    }\n",
              "  }\n",
              "</style>\n",
              "\n",
              "      <script>\n",
              "        async function quickchart(key) {\n",
              "          const quickchartButtonEl =\n",
              "            document.querySelector('#' + key + ' button');\n",
              "          quickchartButtonEl.disabled = true;  // To prevent multiple clicks.\n",
              "          quickchartButtonEl.classList.add('colab-df-spinner');\n",
              "          try {\n",
              "            const charts = await google.colab.kernel.invokeFunction(\n",
              "                'suggestCharts', [key], {});\n",
              "          } catch (error) {\n",
              "            console.error('Error during call to suggestCharts:', error);\n",
              "          }\n",
              "          quickchartButtonEl.classList.remove('colab-df-spinner');\n",
              "          quickchartButtonEl.classList.add('colab-df-quickchart-complete');\n",
              "        }\n",
              "        (() => {\n",
              "          let quickchartButtonEl =\n",
              "            document.querySelector('#df-1530e110-9209-4dd4-a5a4-52d07f0245de button');\n",
              "          quickchartButtonEl.style.display =\n",
              "            google.colab.kernel.accessAllowed ? 'block' : 'none';\n",
              "        })();\n",
              "      </script>\n",
              "    </div>\n",
              "\n",
              "  <div id=\"id_eb309651-2874-4350-905d-1f53b18075f8\">\n",
              "    <style>\n",
              "      .colab-df-generate {\n",
              "        background-color: #E8F0FE;\n",
              "        border: none;\n",
              "        border-radius: 50%;\n",
              "        cursor: pointer;\n",
              "        display: none;\n",
              "        fill: #1967D2;\n",
              "        height: 32px;\n",
              "        padding: 0 0 0 0;\n",
              "        width: 32px;\n",
              "      }\n",
              "\n",
              "      .colab-df-generate:hover {\n",
              "        background-color: #E2EBFA;\n",
              "        box-shadow: 0px 1px 2px rgba(60, 64, 67, 0.3), 0px 1px 3px 1px rgba(60, 64, 67, 0.15);\n",
              "        fill: #174EA6;\n",
              "      }\n",
              "\n",
              "      [theme=dark] .colab-df-generate {\n",
              "        background-color: #3B4455;\n",
              "        fill: #D2E3FC;\n",
              "      }\n",
              "\n",
              "      [theme=dark] .colab-df-generate:hover {\n",
              "        background-color: #434B5C;\n",
              "        box-shadow: 0px 1px 3px 1px rgba(0, 0, 0, 0.15);\n",
              "        filter: drop-shadow(0px 1px 2px rgba(0, 0, 0, 0.3));\n",
              "        fill: #FFFFFF;\n",
              "      }\n",
              "    </style>\n",
              "    <button class=\"colab-df-generate\" onclick=\"generateWithVariable('despliegue')\"\n",
              "            title=\"Generate code using this dataframe.\"\n",
              "            style=\"display:none;\">\n",
              "\n",
              "  <svg xmlns=\"http://www.w3.org/2000/svg\" height=\"24px\"viewBox=\"0 0 24 24\"\n",
              "       width=\"24px\">\n",
              "    <path d=\"M7,19H8.4L18.45,9,17,7.55,7,17.6ZM5,21V16.75L18.45,3.32a2,2,0,0,1,2.83,0l1.4,1.43a1.91,1.91,0,0,1,.58,1.4,1.91,1.91,0,0,1-.58,1.4L9.25,21ZM18.45,9,17,7.55Zm-12,3A5.31,5.31,0,0,0,4.9,8.1,5.31,5.31,0,0,0,1,6.5,5.31,5.31,0,0,0,4.9,4.9,5.31,5.31,0,0,0,6.5,1,5.31,5.31,0,0,0,8.1,4.9,5.31,5.31,0,0,0,12,6.5,5.46,5.46,0,0,0,6.5,12Z\"/>\n",
              "  </svg>\n",
              "    </button>\n",
              "    <script>\n",
              "      (() => {\n",
              "      const buttonEl =\n",
              "        document.querySelector('#id_eb309651-2874-4350-905d-1f53b18075f8 button.colab-df-generate');\n",
              "      buttonEl.style.display =\n",
              "        google.colab.kernel.accessAllowed ? 'block' : 'none';\n",
              "\n",
              "      buttonEl.onclick = () => {\n",
              "        google.colab.notebook.generateWithVariable('despliegue');\n",
              "      }\n",
              "      })();\n",
              "    </script>\n",
              "  </div>\n",
              "\n",
              "    </div>\n",
              "  </div>\n"
            ],
            "application/vnd.google.colaboratory.intrinsic+json": {
              "type": "dataframe",
              "variable_name": "despliegue",
              "summary": "{\n  \"name\": \"despliegue\",\n  \"rows\": 3,\n  \"fields\": [\n    {\n      \"column\": \"Usuario\",\n      \"properties\": {\n        \"dtype\": \"number\",\n        \"std\": 17,\n        \"min\": 463,\n        \"max\": 496,\n        \"num_unique_values\": 3,\n        \"samples\": [\n          471,\n          463,\n          496\n        ],\n        \"semantic_type\": \"\",\n        \"description\": \"\"\n      }\n    },\n    {\n      \"column\": \"Recomendacion1\",\n      \"properties\": {\n        \"dtype\": \"string\",\n        \"num_unique_values\": 2,\n        \"samples\": [\n          \"Andalusian Dog, An (Chien andalou, Un) (1929)\",\n          \"Reign Over Me (2007)\"\n        ],\n        \"semantic_type\": \"\",\n        \"description\": \"\"\n      }\n    },\n    {\n      \"column\": \"Recomendacion2\",\n      \"properties\": {\n        \"dtype\": \"string\",\n        \"num_unique_values\": 3,\n        \"samples\": [\n          \"Visitor, The (2007)\",\n          \"Jet\\u00e9e, La (1962)\"\n        ],\n        \"semantic_type\": \"\",\n        \"description\": \"\"\n      }\n    },\n    {\n      \"column\": \"Recomendacion3\",\n      \"properties\": {\n        \"dtype\": \"string\",\n        \"num_unique_values\": 2,\n        \"samples\": [\n          \"Andalusian Dog, An (Chien andalou, Un) (1929)\",\n          \"Dragon Ball Z: The History of Trunks (Doragon b\\u00f4ru Z: Zetsub\\u00f4 e no hank\\u00f4!! Nokosareta ch\\u00f4 senshi - Gohan to Torankusu) (1993)\"\n        ],\n        \"semantic_type\": \"\",\n        \"description\": \"\"\n      }\n    }\n  ]\n}"
            }
          },
          "metadata": {}
        }
      ],
      "source": [
        "from IPython.display import display\n",
        "despliegue = mostrar_recomendacion(model_final, df_movies, 'user_id', 3, 3, 'Usuario')\n",
        "display(despliegue)"
      ]
    },
    {
      "cell_type": "markdown",
      "metadata": {
        "id": "OMrRuYuMEmmm"
      },
      "source": [
        "`Recomendación de películas para usuarios`: Se realizará recomendación de una película para 5 usuarios para cada película"
      ]
    },
    {
      "cell_type": "code",
      "execution_count": 19,
      "metadata": {
        "colab": {
          "base_uri": "https://localhost:8080/",
          "height": 1000
        },
        "id": "5OudAgH9Emmm",
        "outputId": "a2d50dd2-1724-4aa0-c6b0-b1b43d9ab2eb"
      },
      "outputs": [
        {
          "output_type": "stream",
          "name": "stderr",
          "text": [
            "/tmp/ipython-input-17-1663427683.py:52: DeprecationWarning: Conversion of an array with ndim > 0 to a scalar is deprecated, and will error in future. Ensure you extract a single element from your array before performing this operation. (Deprecated NumPy 1.25.)\n",
            "  recomendacion[\"Nombre\"].loc[i] = datodf['title'][datodf['movieId']==int(dato[i])].iloc[0]\n",
            "/tmp/ipython-input-17-1663427683.py:52: FutureWarning: ChainedAssignmentError: behaviour will change in pandas 3.0!\n",
            "You are setting values through chained assignment. Currently this works in certain cases, but when using Copy-on-Write (which will become the default behaviour in pandas 3.0) this will never work to update the original DataFrame or Series, because the intermediate object on which we are setting values will behave as a copy.\n",
            "A typical example is when you are setting values in a column of a DataFrame, like:\n",
            "\n",
            "df[\"col\"][row_indexer] = value\n",
            "\n",
            "Use `df.loc[row_indexer, \"col\"] = values` instead, to perform the assignment in a single step and ensure this keeps updating the original `df`.\n",
            "\n",
            "See the caveats in the documentation: https://pandas.pydata.org/pandas-docs/stable/user_guide/indexing.html#returning-a-view-versus-a-copy\n",
            "\n",
            "  recomendacion[\"Nombre\"].loc[i] = datodf['title'][datodf['movieId']==int(dato[i])].iloc[0]\n",
            "/tmp/ipython-input-17-1663427683.py:52: SettingWithCopyWarning: \n",
            "A value is trying to be set on a copy of a slice from a DataFrame\n",
            "\n",
            "See the caveats in the documentation: https://pandas.pydata.org/pandas-docs/stable/user_guide/indexing.html#returning-a-view-versus-a-copy\n",
            "  recomendacion[\"Nombre\"].loc[i] = datodf['title'][datodf['movieId']==int(dato[i])].iloc[0]\n",
            "/tmp/ipython-input-17-1663427683.py:56: FutureWarning: ChainedAssignmentError: behaviour will change in pandas 3.0!\n",
            "You are setting values through chained assignment. Currently this works in certain cases, but when using Copy-on-Write (which will become the default behaviour in pandas 3.0) this will never work to update the original DataFrame or Series, because the intermediate object on which we are setting values will behave as a copy.\n",
            "A typical example is when you are setting values in a column of a DataFrame, like:\n",
            "\n",
            "df[\"col\"][row_indexer] = value\n",
            "\n",
            "Use `df.loc[row_indexer, \"col\"] = values` instead, to perform the assignment in a single step and ensure this keeps updating the original `df`.\n",
            "\n",
            "See the caveats in the documentation: https://pandas.pydata.org/pandas-docs/stable/user_guide/indexing.html#returning-a-view-versus-a-copy\n",
            "\n",
            "  recomendacion[nombre+str(j+1)].loc[i] = recomend_data[i, j]\n",
            "/tmp/ipython-input-17-1663427683.py:56: SettingWithCopyWarning: \n",
            "A value is trying to be set on a copy of a slice from a DataFrame\n",
            "\n",
            "See the caveats in the documentation: https://pandas.pydata.org/pandas-docs/stable/user_guide/indexing.html#returning-a-view-versus-a-copy\n",
            "  recomendacion[nombre+str(j+1)].loc[i] = recomend_data[i, j]\n",
            "/tmp/ipython-input-17-1663427683.py:56: FutureWarning: ChainedAssignmentError: behaviour will change in pandas 3.0!\n",
            "You are setting values through chained assignment. Currently this works in certain cases, but when using Copy-on-Write (which will become the default behaviour in pandas 3.0) this will never work to update the original DataFrame or Series, because the intermediate object on which we are setting values will behave as a copy.\n",
            "A typical example is when you are setting values in a column of a DataFrame, like:\n",
            "\n",
            "df[\"col\"][row_indexer] = value\n",
            "\n",
            "Use `df.loc[row_indexer, \"col\"] = values` instead, to perform the assignment in a single step and ensure this keeps updating the original `df`.\n",
            "\n",
            "See the caveats in the documentation: https://pandas.pydata.org/pandas-docs/stable/user_guide/indexing.html#returning-a-view-versus-a-copy\n",
            "\n",
            "  recomendacion[nombre+str(j+1)].loc[i] = recomend_data[i, j]\n",
            "/tmp/ipython-input-17-1663427683.py:56: SettingWithCopyWarning: \n",
            "A value is trying to be set on a copy of a slice from a DataFrame\n",
            "\n",
            "See the caveats in the documentation: https://pandas.pydata.org/pandas-docs/stable/user_guide/indexing.html#returning-a-view-versus-a-copy\n",
            "  recomendacion[nombre+str(j+1)].loc[i] = recomend_data[i, j]\n",
            "/tmp/ipython-input-17-1663427683.py:56: FutureWarning: ChainedAssignmentError: behaviour will change in pandas 3.0!\n",
            "You are setting values through chained assignment. Currently this works in certain cases, but when using Copy-on-Write (which will become the default behaviour in pandas 3.0) this will never work to update the original DataFrame or Series, because the intermediate object on which we are setting values will behave as a copy.\n",
            "A typical example is when you are setting values in a column of a DataFrame, like:\n",
            "\n",
            "df[\"col\"][row_indexer] = value\n",
            "\n",
            "Use `df.loc[row_indexer, \"col\"] = values` instead, to perform the assignment in a single step and ensure this keeps updating the original `df`.\n",
            "\n",
            "See the caveats in the documentation: https://pandas.pydata.org/pandas-docs/stable/user_guide/indexing.html#returning-a-view-versus-a-copy\n",
            "\n",
            "  recomendacion[nombre+str(j+1)].loc[i] = recomend_data[i, j]\n",
            "/tmp/ipython-input-17-1663427683.py:56: SettingWithCopyWarning: \n",
            "A value is trying to be set on a copy of a slice from a DataFrame\n",
            "\n",
            "See the caveats in the documentation: https://pandas.pydata.org/pandas-docs/stable/user_guide/indexing.html#returning-a-view-versus-a-copy\n",
            "  recomendacion[nombre+str(j+1)].loc[i] = recomend_data[i, j]\n",
            "/tmp/ipython-input-17-1663427683.py:56: FutureWarning: ChainedAssignmentError: behaviour will change in pandas 3.0!\n",
            "You are setting values through chained assignment. Currently this works in certain cases, but when using Copy-on-Write (which will become the default behaviour in pandas 3.0) this will never work to update the original DataFrame or Series, because the intermediate object on which we are setting values will behave as a copy.\n",
            "A typical example is when you are setting values in a column of a DataFrame, like:\n",
            "\n",
            "df[\"col\"][row_indexer] = value\n",
            "\n",
            "Use `df.loc[row_indexer, \"col\"] = values` instead, to perform the assignment in a single step and ensure this keeps updating the original `df`.\n",
            "\n",
            "See the caveats in the documentation: https://pandas.pydata.org/pandas-docs/stable/user_guide/indexing.html#returning-a-view-versus-a-copy\n",
            "\n",
            "  recomendacion[nombre+str(j+1)].loc[i] = recomend_data[i, j]\n",
            "/tmp/ipython-input-17-1663427683.py:56: SettingWithCopyWarning: \n",
            "A value is trying to be set on a copy of a slice from a DataFrame\n",
            "\n",
            "See the caveats in the documentation: https://pandas.pydata.org/pandas-docs/stable/user_guide/indexing.html#returning-a-view-versus-a-copy\n",
            "  recomendacion[nombre+str(j+1)].loc[i] = recomend_data[i, j]\n",
            "/tmp/ipython-input-17-1663427683.py:56: FutureWarning: ChainedAssignmentError: behaviour will change in pandas 3.0!\n",
            "You are setting values through chained assignment. Currently this works in certain cases, but when using Copy-on-Write (which will become the default behaviour in pandas 3.0) this will never work to update the original DataFrame or Series, because the intermediate object on which we are setting values will behave as a copy.\n",
            "A typical example is when you are setting values in a column of a DataFrame, like:\n",
            "\n",
            "df[\"col\"][row_indexer] = value\n",
            "\n",
            "Use `df.loc[row_indexer, \"col\"] = values` instead, to perform the assignment in a single step and ensure this keeps updating the original `df`.\n",
            "\n",
            "See the caveats in the documentation: https://pandas.pydata.org/pandas-docs/stable/user_guide/indexing.html#returning-a-view-versus-a-copy\n",
            "\n",
            "  recomendacion[nombre+str(j+1)].loc[i] = recomend_data[i, j]\n",
            "/tmp/ipython-input-17-1663427683.py:56: SettingWithCopyWarning: \n",
            "A value is trying to be set on a copy of a slice from a DataFrame\n",
            "\n",
            "See the caveats in the documentation: https://pandas.pydata.org/pandas-docs/stable/user_guide/indexing.html#returning-a-view-versus-a-copy\n",
            "  recomendacion[nombre+str(j+1)].loc[i] = recomend_data[i, j]\n"
          ]
        },
        {
          "output_type": "display_data",
          "data": {
            "text/plain": [
              "   Pelicula           Nombre Recomendacion1 Recomendacion2 Recomendacion3  \\\n",
              "0      4900  Out Cold (2001)            543             53             12   \n",
              "\n",
              "  Recomendacion4 Recomendacion5  \n",
              "0            594            452  "
            ],
            "text/html": [
              "\n",
              "  <div id=\"df-e22ef928-7df0-4f09-85bb-2db8e0366b6f\" class=\"colab-df-container\">\n",
              "    <div>\n",
              "<style scoped>\n",
              "    .dataframe tbody tr th:only-of-type {\n",
              "        vertical-align: middle;\n",
              "    }\n",
              "\n",
              "    .dataframe tbody tr th {\n",
              "        vertical-align: top;\n",
              "    }\n",
              "\n",
              "    .dataframe thead th {\n",
              "        text-align: right;\n",
              "    }\n",
              "</style>\n",
              "<table border=\"1\" class=\"dataframe\">\n",
              "  <thead>\n",
              "    <tr style=\"text-align: right;\">\n",
              "      <th></th>\n",
              "      <th>Pelicula</th>\n",
              "      <th>Nombre</th>\n",
              "      <th>Recomendacion1</th>\n",
              "      <th>Recomendacion2</th>\n",
              "      <th>Recomendacion3</th>\n",
              "      <th>Recomendacion4</th>\n",
              "      <th>Recomendacion5</th>\n",
              "    </tr>\n",
              "  </thead>\n",
              "  <tbody>\n",
              "    <tr>\n",
              "      <th>0</th>\n",
              "      <td>4900</td>\n",
              "      <td>Out Cold (2001)</td>\n",
              "      <td>543</td>\n",
              "      <td>53</td>\n",
              "      <td>12</td>\n",
              "      <td>594</td>\n",
              "      <td>452</td>\n",
              "    </tr>\n",
              "  </tbody>\n",
              "</table>\n",
              "</div>\n",
              "    <div class=\"colab-df-buttons\">\n",
              "\n",
              "  <div class=\"colab-df-container\">\n",
              "    <button class=\"colab-df-convert\" onclick=\"convertToInteractive('df-e22ef928-7df0-4f09-85bb-2db8e0366b6f')\"\n",
              "            title=\"Convert this dataframe to an interactive table.\"\n",
              "            style=\"display:none;\">\n",
              "\n",
              "  <svg xmlns=\"http://www.w3.org/2000/svg\" height=\"24px\" viewBox=\"0 -960 960 960\">\n",
              "    <path d=\"M120-120v-720h720v720H120Zm60-500h600v-160H180v160Zm220 220h160v-160H400v160Zm0 220h160v-160H400v160ZM180-400h160v-160H180v160Zm440 0h160v-160H620v160ZM180-180h160v-160H180v160Zm440 0h160v-160H620v160Z\"/>\n",
              "  </svg>\n",
              "    </button>\n",
              "\n",
              "  <style>\n",
              "    .colab-df-container {\n",
              "      display:flex;\n",
              "      gap: 12px;\n",
              "    }\n",
              "\n",
              "    .colab-df-convert {\n",
              "      background-color: #E8F0FE;\n",
              "      border: none;\n",
              "      border-radius: 50%;\n",
              "      cursor: pointer;\n",
              "      display: none;\n",
              "      fill: #1967D2;\n",
              "      height: 32px;\n",
              "      padding: 0 0 0 0;\n",
              "      width: 32px;\n",
              "    }\n",
              "\n",
              "    .colab-df-convert:hover {\n",
              "      background-color: #E2EBFA;\n",
              "      box-shadow: 0px 1px 2px rgba(60, 64, 67, 0.3), 0px 1px 3px 1px rgba(60, 64, 67, 0.15);\n",
              "      fill: #174EA6;\n",
              "    }\n",
              "\n",
              "    .colab-df-buttons div {\n",
              "      margin-bottom: 4px;\n",
              "    }\n",
              "\n",
              "    [theme=dark] .colab-df-convert {\n",
              "      background-color: #3B4455;\n",
              "      fill: #D2E3FC;\n",
              "    }\n",
              "\n",
              "    [theme=dark] .colab-df-convert:hover {\n",
              "      background-color: #434B5C;\n",
              "      box-shadow: 0px 1px 3px 1px rgba(0, 0, 0, 0.15);\n",
              "      filter: drop-shadow(0px 1px 2px rgba(0, 0, 0, 0.3));\n",
              "      fill: #FFFFFF;\n",
              "    }\n",
              "  </style>\n",
              "\n",
              "    <script>\n",
              "      const buttonEl =\n",
              "        document.querySelector('#df-e22ef928-7df0-4f09-85bb-2db8e0366b6f button.colab-df-convert');\n",
              "      buttonEl.style.display =\n",
              "        google.colab.kernel.accessAllowed ? 'block' : 'none';\n",
              "\n",
              "      async function convertToInteractive(key) {\n",
              "        const element = document.querySelector('#df-e22ef928-7df0-4f09-85bb-2db8e0366b6f');\n",
              "        const dataTable =\n",
              "          await google.colab.kernel.invokeFunction('convertToInteractive',\n",
              "                                                    [key], {});\n",
              "        if (!dataTable) return;\n",
              "\n",
              "        const docLinkHtml = 'Like what you see? Visit the ' +\n",
              "          '<a target=\"_blank\" href=https://colab.research.google.com/notebooks/data_table.ipynb>data table notebook</a>'\n",
              "          + ' to learn more about interactive tables.';\n",
              "        element.innerHTML = '';\n",
              "        dataTable['output_type'] = 'display_data';\n",
              "        await google.colab.output.renderOutput(dataTable, element);\n",
              "        const docLink = document.createElement('div');\n",
              "        docLink.innerHTML = docLinkHtml;\n",
              "        element.appendChild(docLink);\n",
              "      }\n",
              "    </script>\n",
              "  </div>\n",
              "\n",
              "\n",
              "  <div id=\"id_22a6b7db-770f-4573-b4c5-796783a44d19\">\n",
              "    <style>\n",
              "      .colab-df-generate {\n",
              "        background-color: #E8F0FE;\n",
              "        border: none;\n",
              "        border-radius: 50%;\n",
              "        cursor: pointer;\n",
              "        display: none;\n",
              "        fill: #1967D2;\n",
              "        height: 32px;\n",
              "        padding: 0 0 0 0;\n",
              "        width: 32px;\n",
              "      }\n",
              "\n",
              "      .colab-df-generate:hover {\n",
              "        background-color: #E2EBFA;\n",
              "        box-shadow: 0px 1px 2px rgba(60, 64, 67, 0.3), 0px 1px 3px 1px rgba(60, 64, 67, 0.15);\n",
              "        fill: #174EA6;\n",
              "      }\n",
              "\n",
              "      [theme=dark] .colab-df-generate {\n",
              "        background-color: #3B4455;\n",
              "        fill: #D2E3FC;\n",
              "      }\n",
              "\n",
              "      [theme=dark] .colab-df-generate:hover {\n",
              "        background-color: #434B5C;\n",
              "        box-shadow: 0px 1px 3px 1px rgba(0, 0, 0, 0.15);\n",
              "        filter: drop-shadow(0px 1px 2px rgba(0, 0, 0, 0.3));\n",
              "        fill: #FFFFFF;\n",
              "      }\n",
              "    </style>\n",
              "    <button class=\"colab-df-generate\" onclick=\"generateWithVariable('despliegue')\"\n",
              "            title=\"Generate code using this dataframe.\"\n",
              "            style=\"display:none;\">\n",
              "\n",
              "  <svg xmlns=\"http://www.w3.org/2000/svg\" height=\"24px\"viewBox=\"0 0 24 24\"\n",
              "       width=\"24px\">\n",
              "    <path d=\"M7,19H8.4L18.45,9,17,7.55,7,17.6ZM5,21V16.75L18.45,3.32a2,2,0,0,1,2.83,0l1.4,1.43a1.91,1.91,0,0,1,.58,1.4,1.91,1.91,0,0,1-.58,1.4L9.25,21ZM18.45,9,17,7.55Zm-12,3A5.31,5.31,0,0,0,4.9,8.1,5.31,5.31,0,0,0,1,6.5,5.31,5.31,0,0,0,4.9,4.9,5.31,5.31,0,0,0,6.5,1,5.31,5.31,0,0,0,8.1,4.9,5.31,5.31,0,0,0,12,6.5,5.46,5.46,0,0,0,6.5,12Z\"/>\n",
              "  </svg>\n",
              "    </button>\n",
              "    <script>\n",
              "      (() => {\n",
              "      const buttonEl =\n",
              "        document.querySelector('#id_22a6b7db-770f-4573-b4c5-796783a44d19 button.colab-df-generate');\n",
              "      buttonEl.style.display =\n",
              "        google.colab.kernel.accessAllowed ? 'block' : 'none';\n",
              "\n",
              "      buttonEl.onclick = () => {\n",
              "        google.colab.notebook.generateWithVariable('despliegue');\n",
              "      }\n",
              "      })();\n",
              "    </script>\n",
              "  </div>\n",
              "\n",
              "    </div>\n",
              "  </div>\n"
            ],
            "application/vnd.google.colaboratory.intrinsic+json": {
              "type": "dataframe",
              "variable_name": "despliegue",
              "summary": "{\n  \"name\": \"despliegue\",\n  \"rows\": 1,\n  \"fields\": [\n    {\n      \"column\": \"Pelicula\",\n      \"properties\": {\n        \"dtype\": \"number\",\n        \"std\": null,\n        \"min\": 4900,\n        \"max\": 4900,\n        \"num_unique_values\": 1,\n        \"samples\": [\n          4900\n        ],\n        \"semantic_type\": \"\",\n        \"description\": \"\"\n      }\n    },\n    {\n      \"column\": \"Nombre\",\n      \"properties\": {\n        \"dtype\": \"string\",\n        \"num_unique_values\": 1,\n        \"samples\": [\n          \"Out Cold (2001)\"\n        ],\n        \"semantic_type\": \"\",\n        \"description\": \"\"\n      }\n    },\n    {\n      \"column\": \"Recomendacion1\",\n      \"properties\": {\n        \"dtype\": \"date\",\n        \"min\": \"543\",\n        \"max\": \"543\",\n        \"num_unique_values\": 1,\n        \"samples\": [\n          \"543\"\n        ],\n        \"semantic_type\": \"\",\n        \"description\": \"\"\n      }\n    },\n    {\n      \"column\": \"Recomendacion2\",\n      \"properties\": {\n        \"dtype\": \"date\",\n        \"min\": \"53\",\n        \"max\": \"53\",\n        \"num_unique_values\": 1,\n        \"samples\": [\n          \"53\"\n        ],\n        \"semantic_type\": \"\",\n        \"description\": \"\"\n      }\n    },\n    {\n      \"column\": \"Recomendacion3\",\n      \"properties\": {\n        \"dtype\": \"date\",\n        \"min\": \"12\",\n        \"max\": \"12\",\n        \"num_unique_values\": 1,\n        \"samples\": [\n          \"12\"\n        ],\n        \"semantic_type\": \"\",\n        \"description\": \"\"\n      }\n    },\n    {\n      \"column\": \"Recomendacion4\",\n      \"properties\": {\n        \"dtype\": \"date\",\n        \"min\": \"594\",\n        \"max\": \"594\",\n        \"num_unique_values\": 1,\n        \"samples\": [\n          \"594\"\n        ],\n        \"semantic_type\": \"\",\n        \"description\": \"\"\n      }\n    },\n    {\n      \"column\": \"Recomendacion5\",\n      \"properties\": {\n        \"dtype\": \"date\",\n        \"min\": \"452\",\n        \"max\": \"452\",\n        \"num_unique_values\": 1,\n        \"samples\": [\n          \"452\"\n        ],\n        \"semantic_type\": \"\",\n        \"description\": \"\"\n      }\n    }\n  ]\n}"
            }
          },
          "metadata": {}
        }
      ],
      "source": [
        "despliegue = mostrar_recomendacion(model_final, df_movies, 'movieId', 1, 5, 'Pelicula', 4900)\n",
        "display(despliegue)"
      ]
    },
    {
      "cell_type": "markdown",
      "metadata": {
        "id": "_6blPBBSEmmm"
      },
      "source": [
        "`Recomendación para un usuario en particular`: Se recomendará 3 películas para el usuario 471"
      ]
    },
    {
      "cell_type": "code",
      "execution_count": 20,
      "metadata": {
        "colab": {
          "base_uri": "https://localhost:8080/",
          "height": 89
        },
        "id": "iWAxsEGqEmmm",
        "outputId": "bfae61f4-eaa4-40da-834f-d7f336355378"
      },
      "outputs": [
        {
          "output_type": "display_data",
          "data": {
            "text/plain": [
              "   Usuario        Recomendacion1\n",
              "0      471  Reign Over Me (2007)"
            ],
            "text/html": [
              "\n",
              "  <div id=\"df-a62a9207-ae2c-4507-b8c8-d81eacb55048\" class=\"colab-df-container\">\n",
              "    <div>\n",
              "<style scoped>\n",
              "    .dataframe tbody tr th:only-of-type {\n",
              "        vertical-align: middle;\n",
              "    }\n",
              "\n",
              "    .dataframe tbody tr th {\n",
              "        vertical-align: top;\n",
              "    }\n",
              "\n",
              "    .dataframe thead th {\n",
              "        text-align: right;\n",
              "    }\n",
              "</style>\n",
              "<table border=\"1\" class=\"dataframe\">\n",
              "  <thead>\n",
              "    <tr style=\"text-align: right;\">\n",
              "      <th></th>\n",
              "      <th>Usuario</th>\n",
              "      <th>Recomendacion1</th>\n",
              "    </tr>\n",
              "  </thead>\n",
              "  <tbody>\n",
              "    <tr>\n",
              "      <th>0</th>\n",
              "      <td>471</td>\n",
              "      <td>Reign Over Me (2007)</td>\n",
              "    </tr>\n",
              "  </tbody>\n",
              "</table>\n",
              "</div>\n",
              "    <div class=\"colab-df-buttons\">\n",
              "\n",
              "  <div class=\"colab-df-container\">\n",
              "    <button class=\"colab-df-convert\" onclick=\"convertToInteractive('df-a62a9207-ae2c-4507-b8c8-d81eacb55048')\"\n",
              "            title=\"Convert this dataframe to an interactive table.\"\n",
              "            style=\"display:none;\">\n",
              "\n",
              "  <svg xmlns=\"http://www.w3.org/2000/svg\" height=\"24px\" viewBox=\"0 -960 960 960\">\n",
              "    <path d=\"M120-120v-720h720v720H120Zm60-500h600v-160H180v160Zm220 220h160v-160H400v160Zm0 220h160v-160H400v160ZM180-400h160v-160H180v160Zm440 0h160v-160H620v160ZM180-180h160v-160H180v160Zm440 0h160v-160H620v160Z\"/>\n",
              "  </svg>\n",
              "    </button>\n",
              "\n",
              "  <style>\n",
              "    .colab-df-container {\n",
              "      display:flex;\n",
              "      gap: 12px;\n",
              "    }\n",
              "\n",
              "    .colab-df-convert {\n",
              "      background-color: #E8F0FE;\n",
              "      border: none;\n",
              "      border-radius: 50%;\n",
              "      cursor: pointer;\n",
              "      display: none;\n",
              "      fill: #1967D2;\n",
              "      height: 32px;\n",
              "      padding: 0 0 0 0;\n",
              "      width: 32px;\n",
              "    }\n",
              "\n",
              "    .colab-df-convert:hover {\n",
              "      background-color: #E2EBFA;\n",
              "      box-shadow: 0px 1px 2px rgba(60, 64, 67, 0.3), 0px 1px 3px 1px rgba(60, 64, 67, 0.15);\n",
              "      fill: #174EA6;\n",
              "    }\n",
              "\n",
              "    .colab-df-buttons div {\n",
              "      margin-bottom: 4px;\n",
              "    }\n",
              "\n",
              "    [theme=dark] .colab-df-convert {\n",
              "      background-color: #3B4455;\n",
              "      fill: #D2E3FC;\n",
              "    }\n",
              "\n",
              "    [theme=dark] .colab-df-convert:hover {\n",
              "      background-color: #434B5C;\n",
              "      box-shadow: 0px 1px 3px 1px rgba(0, 0, 0, 0.15);\n",
              "      filter: drop-shadow(0px 1px 2px rgba(0, 0, 0, 0.3));\n",
              "      fill: #FFFFFF;\n",
              "    }\n",
              "  </style>\n",
              "\n",
              "    <script>\n",
              "      const buttonEl =\n",
              "        document.querySelector('#df-a62a9207-ae2c-4507-b8c8-d81eacb55048 button.colab-df-convert');\n",
              "      buttonEl.style.display =\n",
              "        google.colab.kernel.accessAllowed ? 'block' : 'none';\n",
              "\n",
              "      async function convertToInteractive(key) {\n",
              "        const element = document.querySelector('#df-a62a9207-ae2c-4507-b8c8-d81eacb55048');\n",
              "        const dataTable =\n",
              "          await google.colab.kernel.invokeFunction('convertToInteractive',\n",
              "                                                    [key], {});\n",
              "        if (!dataTable) return;\n",
              "\n",
              "        const docLinkHtml = 'Like what you see? Visit the ' +\n",
              "          '<a target=\"_blank\" href=https://colab.research.google.com/notebooks/data_table.ipynb>data table notebook</a>'\n",
              "          + ' to learn more about interactive tables.';\n",
              "        element.innerHTML = '';\n",
              "        dataTable['output_type'] = 'display_data';\n",
              "        await google.colab.output.renderOutput(dataTable, element);\n",
              "        const docLink = document.createElement('div');\n",
              "        docLink.innerHTML = docLinkHtml;\n",
              "        element.appendChild(docLink);\n",
              "      }\n",
              "    </script>\n",
              "  </div>\n",
              "\n",
              "\n",
              "  <div id=\"id_5457f14a-ba8a-4a31-8b2a-680accdb0da3\">\n",
              "    <style>\n",
              "      .colab-df-generate {\n",
              "        background-color: #E8F0FE;\n",
              "        border: none;\n",
              "        border-radius: 50%;\n",
              "        cursor: pointer;\n",
              "        display: none;\n",
              "        fill: #1967D2;\n",
              "        height: 32px;\n",
              "        padding: 0 0 0 0;\n",
              "        width: 32px;\n",
              "      }\n",
              "\n",
              "      .colab-df-generate:hover {\n",
              "        background-color: #E2EBFA;\n",
              "        box-shadow: 0px 1px 2px rgba(60, 64, 67, 0.3), 0px 1px 3px 1px rgba(60, 64, 67, 0.15);\n",
              "        fill: #174EA6;\n",
              "      }\n",
              "\n",
              "      [theme=dark] .colab-df-generate {\n",
              "        background-color: #3B4455;\n",
              "        fill: #D2E3FC;\n",
              "      }\n",
              "\n",
              "      [theme=dark] .colab-df-generate:hover {\n",
              "        background-color: #434B5C;\n",
              "        box-shadow: 0px 1px 3px 1px rgba(0, 0, 0, 0.15);\n",
              "        filter: drop-shadow(0px 1px 2px rgba(0, 0, 0, 0.3));\n",
              "        fill: #FFFFFF;\n",
              "      }\n",
              "    </style>\n",
              "    <button class=\"colab-df-generate\" onclick=\"generateWithVariable('despliegue3')\"\n",
              "            title=\"Generate code using this dataframe.\"\n",
              "            style=\"display:none;\">\n",
              "\n",
              "  <svg xmlns=\"http://www.w3.org/2000/svg\" height=\"24px\"viewBox=\"0 0 24 24\"\n",
              "       width=\"24px\">\n",
              "    <path d=\"M7,19H8.4L18.45,9,17,7.55,7,17.6ZM5,21V16.75L18.45,3.32a2,2,0,0,1,2.83,0l1.4,1.43a1.91,1.91,0,0,1,.58,1.4,1.91,1.91,0,0,1-.58,1.4L9.25,21ZM18.45,9,17,7.55Zm-12,3A5.31,5.31,0,0,0,4.9,8.1,5.31,5.31,0,0,0,1,6.5,5.31,5.31,0,0,0,4.9,4.9,5.31,5.31,0,0,0,6.5,1,5.31,5.31,0,0,0,8.1,4.9,5.31,5.31,0,0,0,12,6.5,5.46,5.46,0,0,0,6.5,12Z\"/>\n",
              "  </svg>\n",
              "    </button>\n",
              "    <script>\n",
              "      (() => {\n",
              "      const buttonEl =\n",
              "        document.querySelector('#id_5457f14a-ba8a-4a31-8b2a-680accdb0da3 button.colab-df-generate');\n",
              "      buttonEl.style.display =\n",
              "        google.colab.kernel.accessAllowed ? 'block' : 'none';\n",
              "\n",
              "      buttonEl.onclick = () => {\n",
              "        google.colab.notebook.generateWithVariable('despliegue3');\n",
              "      }\n",
              "      })();\n",
              "    </script>\n",
              "  </div>\n",
              "\n",
              "    </div>\n",
              "  </div>\n"
            ],
            "application/vnd.google.colaboratory.intrinsic+json": {
              "type": "dataframe",
              "variable_name": "despliegue3",
              "summary": "{\n  \"name\": \"despliegue3\",\n  \"rows\": 1,\n  \"fields\": [\n    {\n      \"column\": \"Usuario\",\n      \"properties\": {\n        \"dtype\": \"number\",\n        \"std\": null,\n        \"min\": 471,\n        \"max\": 471,\n        \"num_unique_values\": 1,\n        \"samples\": [\n          471\n        ],\n        \"semantic_type\": \"\",\n        \"description\": \"\"\n      }\n    },\n    {\n      \"column\": \"Recomendacion1\",\n      \"properties\": {\n        \"dtype\": \"string\",\n        \"num_unique_values\": 1,\n        \"samples\": [\n          \"Reign Over Me (2007)\"\n        ],\n        \"semantic_type\": \"\",\n        \"description\": \"\"\n      }\n    }\n  ]\n}"
            }
          },
          "metadata": {}
        }
      ],
      "source": [
        "despliegue3 = mostrar_recomendacion(model_final, df_movies, 'user_id', 1, 1, 'Usuario', 471)\n",
        "display(despliegue3)"
      ]
    },
    {
      "cell_type": "markdown",
      "metadata": {
        "id": "cDo_AGqjEmmm"
      },
      "source": [
        "`Recomendación de película en particular para usuarios`: Se recomendará la película `Out Cold (2001)` para 4 usuarios"
      ]
    },
    {
      "cell_type": "code",
      "execution_count": 21,
      "metadata": {
        "id": "uwSk6Ey3Emmn",
        "colab": {
          "base_uri": "https://localhost:8080/",
          "height": 1000
        },
        "outputId": "28e7999d-56b0-4fdf-dcc8-43ad6b1874b9"
      },
      "outputs": [
        {
          "output_type": "stream",
          "name": "stderr",
          "text": [
            "/tmp/ipython-input-17-1663427683.py:52: DeprecationWarning: Conversion of an array with ndim > 0 to a scalar is deprecated, and will error in future. Ensure you extract a single element from your array before performing this operation. (Deprecated NumPy 1.25.)\n",
            "  recomendacion[\"Nombre\"].loc[i] = datodf['title'][datodf['movieId']==int(dato[i])].iloc[0]\n",
            "/tmp/ipython-input-17-1663427683.py:52: FutureWarning: ChainedAssignmentError: behaviour will change in pandas 3.0!\n",
            "You are setting values through chained assignment. Currently this works in certain cases, but when using Copy-on-Write (which will become the default behaviour in pandas 3.0) this will never work to update the original DataFrame or Series, because the intermediate object on which we are setting values will behave as a copy.\n",
            "A typical example is when you are setting values in a column of a DataFrame, like:\n",
            "\n",
            "df[\"col\"][row_indexer] = value\n",
            "\n",
            "Use `df.loc[row_indexer, \"col\"] = values` instead, to perform the assignment in a single step and ensure this keeps updating the original `df`.\n",
            "\n",
            "See the caveats in the documentation: https://pandas.pydata.org/pandas-docs/stable/user_guide/indexing.html#returning-a-view-versus-a-copy\n",
            "\n",
            "  recomendacion[\"Nombre\"].loc[i] = datodf['title'][datodf['movieId']==int(dato[i])].iloc[0]\n",
            "/tmp/ipython-input-17-1663427683.py:52: SettingWithCopyWarning: \n",
            "A value is trying to be set on a copy of a slice from a DataFrame\n",
            "\n",
            "See the caveats in the documentation: https://pandas.pydata.org/pandas-docs/stable/user_guide/indexing.html#returning-a-view-versus-a-copy\n",
            "  recomendacion[\"Nombre\"].loc[i] = datodf['title'][datodf['movieId']==int(dato[i])].iloc[0]\n",
            "/tmp/ipython-input-17-1663427683.py:56: FutureWarning: ChainedAssignmentError: behaviour will change in pandas 3.0!\n",
            "You are setting values through chained assignment. Currently this works in certain cases, but when using Copy-on-Write (which will become the default behaviour in pandas 3.0) this will never work to update the original DataFrame or Series, because the intermediate object on which we are setting values will behave as a copy.\n",
            "A typical example is when you are setting values in a column of a DataFrame, like:\n",
            "\n",
            "df[\"col\"][row_indexer] = value\n",
            "\n",
            "Use `df.loc[row_indexer, \"col\"] = values` instead, to perform the assignment in a single step and ensure this keeps updating the original `df`.\n",
            "\n",
            "See the caveats in the documentation: https://pandas.pydata.org/pandas-docs/stable/user_guide/indexing.html#returning-a-view-versus-a-copy\n",
            "\n",
            "  recomendacion[nombre+str(j+1)].loc[i] = recomend_data[i, j]\n",
            "/tmp/ipython-input-17-1663427683.py:56: SettingWithCopyWarning: \n",
            "A value is trying to be set on a copy of a slice from a DataFrame\n",
            "\n",
            "See the caveats in the documentation: https://pandas.pydata.org/pandas-docs/stable/user_guide/indexing.html#returning-a-view-versus-a-copy\n",
            "  recomendacion[nombre+str(j+1)].loc[i] = recomend_data[i, j]\n",
            "/tmp/ipython-input-17-1663427683.py:56: FutureWarning: ChainedAssignmentError: behaviour will change in pandas 3.0!\n",
            "You are setting values through chained assignment. Currently this works in certain cases, but when using Copy-on-Write (which will become the default behaviour in pandas 3.0) this will never work to update the original DataFrame or Series, because the intermediate object on which we are setting values will behave as a copy.\n",
            "A typical example is when you are setting values in a column of a DataFrame, like:\n",
            "\n",
            "df[\"col\"][row_indexer] = value\n",
            "\n",
            "Use `df.loc[row_indexer, \"col\"] = values` instead, to perform the assignment in a single step and ensure this keeps updating the original `df`.\n",
            "\n",
            "See the caveats in the documentation: https://pandas.pydata.org/pandas-docs/stable/user_guide/indexing.html#returning-a-view-versus-a-copy\n",
            "\n",
            "  recomendacion[nombre+str(j+1)].loc[i] = recomend_data[i, j]\n",
            "/tmp/ipython-input-17-1663427683.py:56: SettingWithCopyWarning: \n",
            "A value is trying to be set on a copy of a slice from a DataFrame\n",
            "\n",
            "See the caveats in the documentation: https://pandas.pydata.org/pandas-docs/stable/user_guide/indexing.html#returning-a-view-versus-a-copy\n",
            "  recomendacion[nombre+str(j+1)].loc[i] = recomend_data[i, j]\n",
            "/tmp/ipython-input-17-1663427683.py:56: FutureWarning: ChainedAssignmentError: behaviour will change in pandas 3.0!\n",
            "You are setting values through chained assignment. Currently this works in certain cases, but when using Copy-on-Write (which will become the default behaviour in pandas 3.0) this will never work to update the original DataFrame or Series, because the intermediate object on which we are setting values will behave as a copy.\n",
            "A typical example is when you are setting values in a column of a DataFrame, like:\n",
            "\n",
            "df[\"col\"][row_indexer] = value\n",
            "\n",
            "Use `df.loc[row_indexer, \"col\"] = values` instead, to perform the assignment in a single step and ensure this keeps updating the original `df`.\n",
            "\n",
            "See the caveats in the documentation: https://pandas.pydata.org/pandas-docs/stable/user_guide/indexing.html#returning-a-view-versus-a-copy\n",
            "\n",
            "  recomendacion[nombre+str(j+1)].loc[i] = recomend_data[i, j]\n",
            "/tmp/ipython-input-17-1663427683.py:56: SettingWithCopyWarning: \n",
            "A value is trying to be set on a copy of a slice from a DataFrame\n",
            "\n",
            "See the caveats in the documentation: https://pandas.pydata.org/pandas-docs/stable/user_guide/indexing.html#returning-a-view-versus-a-copy\n",
            "  recomendacion[nombre+str(j+1)].loc[i] = recomend_data[i, j]\n",
            "/tmp/ipython-input-17-1663427683.py:56: FutureWarning: ChainedAssignmentError: behaviour will change in pandas 3.0!\n",
            "You are setting values through chained assignment. Currently this works in certain cases, but when using Copy-on-Write (which will become the default behaviour in pandas 3.0) this will never work to update the original DataFrame or Series, because the intermediate object on which we are setting values will behave as a copy.\n",
            "A typical example is when you are setting values in a column of a DataFrame, like:\n",
            "\n",
            "df[\"col\"][row_indexer] = value\n",
            "\n",
            "Use `df.loc[row_indexer, \"col\"] = values` instead, to perform the assignment in a single step and ensure this keeps updating the original `df`.\n",
            "\n",
            "See the caveats in the documentation: https://pandas.pydata.org/pandas-docs/stable/user_guide/indexing.html#returning-a-view-versus-a-copy\n",
            "\n",
            "  recomendacion[nombre+str(j+1)].loc[i] = recomend_data[i, j]\n",
            "/tmp/ipython-input-17-1663427683.py:56: SettingWithCopyWarning: \n",
            "A value is trying to be set on a copy of a slice from a DataFrame\n",
            "\n",
            "See the caveats in the documentation: https://pandas.pydata.org/pandas-docs/stable/user_guide/indexing.html#returning-a-view-versus-a-copy\n",
            "  recomendacion[nombre+str(j+1)].loc[i] = recomend_data[i, j]\n"
          ]
        },
        {
          "output_type": "display_data",
          "data": {
            "text/plain": [
              "   Pelicula           Nombre Recomendacion1 Recomendacion2 Recomendacion3  \\\n",
              "0      4900  Out Cold (2001)            543             53             12   \n",
              "\n",
              "  Recomendacion4  \n",
              "0            594  "
            ],
            "text/html": [
              "\n",
              "  <div id=\"df-4558003a-7732-4a57-a579-578dcf8c488c\" class=\"colab-df-container\">\n",
              "    <div>\n",
              "<style scoped>\n",
              "    .dataframe tbody tr th:only-of-type {\n",
              "        vertical-align: middle;\n",
              "    }\n",
              "\n",
              "    .dataframe tbody tr th {\n",
              "        vertical-align: top;\n",
              "    }\n",
              "\n",
              "    .dataframe thead th {\n",
              "        text-align: right;\n",
              "    }\n",
              "</style>\n",
              "<table border=\"1\" class=\"dataframe\">\n",
              "  <thead>\n",
              "    <tr style=\"text-align: right;\">\n",
              "      <th></th>\n",
              "      <th>Pelicula</th>\n",
              "      <th>Nombre</th>\n",
              "      <th>Recomendacion1</th>\n",
              "      <th>Recomendacion2</th>\n",
              "      <th>Recomendacion3</th>\n",
              "      <th>Recomendacion4</th>\n",
              "    </tr>\n",
              "  </thead>\n",
              "  <tbody>\n",
              "    <tr>\n",
              "      <th>0</th>\n",
              "      <td>4900</td>\n",
              "      <td>Out Cold (2001)</td>\n",
              "      <td>543</td>\n",
              "      <td>53</td>\n",
              "      <td>12</td>\n",
              "      <td>594</td>\n",
              "    </tr>\n",
              "  </tbody>\n",
              "</table>\n",
              "</div>\n",
              "    <div class=\"colab-df-buttons\">\n",
              "\n",
              "  <div class=\"colab-df-container\">\n",
              "    <button class=\"colab-df-convert\" onclick=\"convertToInteractive('df-4558003a-7732-4a57-a579-578dcf8c488c')\"\n",
              "            title=\"Convert this dataframe to an interactive table.\"\n",
              "            style=\"display:none;\">\n",
              "\n",
              "  <svg xmlns=\"http://www.w3.org/2000/svg\" height=\"24px\" viewBox=\"0 -960 960 960\">\n",
              "    <path d=\"M120-120v-720h720v720H120Zm60-500h600v-160H180v160Zm220 220h160v-160H400v160Zm0 220h160v-160H400v160ZM180-400h160v-160H180v160Zm440 0h160v-160H620v160ZM180-180h160v-160H180v160Zm440 0h160v-160H620v160Z\"/>\n",
              "  </svg>\n",
              "    </button>\n",
              "\n",
              "  <style>\n",
              "    .colab-df-container {\n",
              "      display:flex;\n",
              "      gap: 12px;\n",
              "    }\n",
              "\n",
              "    .colab-df-convert {\n",
              "      background-color: #E8F0FE;\n",
              "      border: none;\n",
              "      border-radius: 50%;\n",
              "      cursor: pointer;\n",
              "      display: none;\n",
              "      fill: #1967D2;\n",
              "      height: 32px;\n",
              "      padding: 0 0 0 0;\n",
              "      width: 32px;\n",
              "    }\n",
              "\n",
              "    .colab-df-convert:hover {\n",
              "      background-color: #E2EBFA;\n",
              "      box-shadow: 0px 1px 2px rgba(60, 64, 67, 0.3), 0px 1px 3px 1px rgba(60, 64, 67, 0.15);\n",
              "      fill: #174EA6;\n",
              "    }\n",
              "\n",
              "    .colab-df-buttons div {\n",
              "      margin-bottom: 4px;\n",
              "    }\n",
              "\n",
              "    [theme=dark] .colab-df-convert {\n",
              "      background-color: #3B4455;\n",
              "      fill: #D2E3FC;\n",
              "    }\n",
              "\n",
              "    [theme=dark] .colab-df-convert:hover {\n",
              "      background-color: #434B5C;\n",
              "      box-shadow: 0px 1px 3px 1px rgba(0, 0, 0, 0.15);\n",
              "      filter: drop-shadow(0px 1px 2px rgba(0, 0, 0, 0.3));\n",
              "      fill: #FFFFFF;\n",
              "    }\n",
              "  </style>\n",
              "\n",
              "    <script>\n",
              "      const buttonEl =\n",
              "        document.querySelector('#df-4558003a-7732-4a57-a579-578dcf8c488c button.colab-df-convert');\n",
              "      buttonEl.style.display =\n",
              "        google.colab.kernel.accessAllowed ? 'block' : 'none';\n",
              "\n",
              "      async function convertToInteractive(key) {\n",
              "        const element = document.querySelector('#df-4558003a-7732-4a57-a579-578dcf8c488c');\n",
              "        const dataTable =\n",
              "          await google.colab.kernel.invokeFunction('convertToInteractive',\n",
              "                                                    [key], {});\n",
              "        if (!dataTable) return;\n",
              "\n",
              "        const docLinkHtml = 'Like what you see? Visit the ' +\n",
              "          '<a target=\"_blank\" href=https://colab.research.google.com/notebooks/data_table.ipynb>data table notebook</a>'\n",
              "          + ' to learn more about interactive tables.';\n",
              "        element.innerHTML = '';\n",
              "        dataTable['output_type'] = 'display_data';\n",
              "        await google.colab.output.renderOutput(dataTable, element);\n",
              "        const docLink = document.createElement('div');\n",
              "        docLink.innerHTML = docLinkHtml;\n",
              "        element.appendChild(docLink);\n",
              "      }\n",
              "    </script>\n",
              "  </div>\n",
              "\n",
              "\n",
              "  <div id=\"id_5e23173c-05d3-45a8-bf39-1f3fe27f0c54\">\n",
              "    <style>\n",
              "      .colab-df-generate {\n",
              "        background-color: #E8F0FE;\n",
              "        border: none;\n",
              "        border-radius: 50%;\n",
              "        cursor: pointer;\n",
              "        display: none;\n",
              "        fill: #1967D2;\n",
              "        height: 32px;\n",
              "        padding: 0 0 0 0;\n",
              "        width: 32px;\n",
              "      }\n",
              "\n",
              "      .colab-df-generate:hover {\n",
              "        background-color: #E2EBFA;\n",
              "        box-shadow: 0px 1px 2px rgba(60, 64, 67, 0.3), 0px 1px 3px 1px rgba(60, 64, 67, 0.15);\n",
              "        fill: #174EA6;\n",
              "      }\n",
              "\n",
              "      [theme=dark] .colab-df-generate {\n",
              "        background-color: #3B4455;\n",
              "        fill: #D2E3FC;\n",
              "      }\n",
              "\n",
              "      [theme=dark] .colab-df-generate:hover {\n",
              "        background-color: #434B5C;\n",
              "        box-shadow: 0px 1px 3px 1px rgba(0, 0, 0, 0.15);\n",
              "        filter: drop-shadow(0px 1px 2px rgba(0, 0, 0, 0.3));\n",
              "        fill: #FFFFFF;\n",
              "      }\n",
              "    </style>\n",
              "    <button class=\"colab-df-generate\" onclick=\"generateWithVariable('despliegue4')\"\n",
              "            title=\"Generate code using this dataframe.\"\n",
              "            style=\"display:none;\">\n",
              "\n",
              "  <svg xmlns=\"http://www.w3.org/2000/svg\" height=\"24px\"viewBox=\"0 0 24 24\"\n",
              "       width=\"24px\">\n",
              "    <path d=\"M7,19H8.4L18.45,9,17,7.55,7,17.6ZM5,21V16.75L18.45,3.32a2,2,0,0,1,2.83,0l1.4,1.43a1.91,1.91,0,0,1,.58,1.4,1.91,1.91,0,0,1-.58,1.4L9.25,21ZM18.45,9,17,7.55Zm-12,3A5.31,5.31,0,0,0,4.9,8.1,5.31,5.31,0,0,0,1,6.5,5.31,5.31,0,0,0,4.9,4.9,5.31,5.31,0,0,0,6.5,1,5.31,5.31,0,0,0,8.1,4.9,5.31,5.31,0,0,0,12,6.5,5.46,5.46,0,0,0,6.5,12Z\"/>\n",
              "  </svg>\n",
              "    </button>\n",
              "    <script>\n",
              "      (() => {\n",
              "      const buttonEl =\n",
              "        document.querySelector('#id_5e23173c-05d3-45a8-bf39-1f3fe27f0c54 button.colab-df-generate');\n",
              "      buttonEl.style.display =\n",
              "        google.colab.kernel.accessAllowed ? 'block' : 'none';\n",
              "\n",
              "      buttonEl.onclick = () => {\n",
              "        google.colab.notebook.generateWithVariable('despliegue4');\n",
              "      }\n",
              "      })();\n",
              "    </script>\n",
              "  </div>\n",
              "\n",
              "    </div>\n",
              "  </div>\n"
            ],
            "application/vnd.google.colaboratory.intrinsic+json": {
              "type": "dataframe",
              "variable_name": "despliegue4",
              "summary": "{\n  \"name\": \"despliegue4\",\n  \"rows\": 1,\n  \"fields\": [\n    {\n      \"column\": \"Pelicula\",\n      \"properties\": {\n        \"dtype\": \"number\",\n        \"std\": null,\n        \"min\": 4900,\n        \"max\": 4900,\n        \"num_unique_values\": 1,\n        \"samples\": [\n          4900\n        ],\n        \"semantic_type\": \"\",\n        \"description\": \"\"\n      }\n    },\n    {\n      \"column\": \"Nombre\",\n      \"properties\": {\n        \"dtype\": \"string\",\n        \"num_unique_values\": 1,\n        \"samples\": [\n          \"Out Cold (2001)\"\n        ],\n        \"semantic_type\": \"\",\n        \"description\": \"\"\n      }\n    },\n    {\n      \"column\": \"Recomendacion1\",\n      \"properties\": {\n        \"dtype\": \"date\",\n        \"min\": \"543\",\n        \"max\": \"543\",\n        \"num_unique_values\": 1,\n        \"samples\": [\n          \"543\"\n        ],\n        \"semantic_type\": \"\",\n        \"description\": \"\"\n      }\n    },\n    {\n      \"column\": \"Recomendacion2\",\n      \"properties\": {\n        \"dtype\": \"date\",\n        \"min\": \"53\",\n        \"max\": \"53\",\n        \"num_unique_values\": 1,\n        \"samples\": [\n          \"53\"\n        ],\n        \"semantic_type\": \"\",\n        \"description\": \"\"\n      }\n    },\n    {\n      \"column\": \"Recomendacion3\",\n      \"properties\": {\n        \"dtype\": \"date\",\n        \"min\": \"12\",\n        \"max\": \"12\",\n        \"num_unique_values\": 1,\n        \"samples\": [\n          \"12\"\n        ],\n        \"semantic_type\": \"\",\n        \"description\": \"\"\n      }\n    },\n    {\n      \"column\": \"Recomendacion4\",\n      \"properties\": {\n        \"dtype\": \"date\",\n        \"min\": \"594\",\n        \"max\": \"594\",\n        \"num_unique_values\": 1,\n        \"samples\": [\n          \"594\"\n        ],\n        \"semantic_type\": \"\",\n        \"description\": \"\"\n      }\n    }\n  ]\n}"
            }
          },
          "metadata": {}
        }
      ],
      "source": [
        "despliegue4 = mostrar_recomendacion(model_final, df_movies, 'movieId', 1, 4, 'Pelicula', 4900)\n",
        "display(despliegue4)"
      ]
    },
    {
      "cell_type": "markdown",
      "metadata": {
        "id": "rwcl7ps_qg_0"
      },
      "source": [
        "Finalizamos deteniendo la sesión de spark (no se debe olvidar este paso)"
      ]
    },
    {
      "cell_type": "code",
      "execution_count": 22,
      "metadata": {
        "id": "3RboON4Aqf7b"
      },
      "outputs": [],
      "source": [
        "sc.stop()"
      ]
    },
    {
      "cell_type": "markdown",
      "metadata": {
        "id": "0U3xRIMCEmmn"
      },
      "source": [
        "# Conclusión\n",
        "\n",
        "Los algoritmos de filtrado colaborativo nos ayudan a generar recomendaciones a personas de acuerdo a sus gustos o preferencias de personas con gustos similares. Esto es de vital importancia para el negocio, dado que podemos establecer con precisión lo que necesita un usuario y por consiguiente mayor posibilidad de captar una venta."
      ]
    },
    {
      "cell_type": "markdown",
      "metadata": {
        "id": "aVcuAzceEmmn"
      },
      "source": [
        "# Referencias\n",
        "\n",
        "Filtrado Colaborativo definición: https://es.wikipedia.org/wiki/Filtrado_colaborativo\n",
        "\n",
        "Filtrado Colaborativo definición y contexto: https://www.iebschool.com/blog/filtrado-colaborativo-sirve-e-commerce/\n",
        "\n",
        "Filtrado Colaborativo con pyspark: https://medium.com/datos-y-ciencia/intro-als-pyspark-7de7f3ba3b0a\n",
        "\n",
        "Componente filtrado Colaborativo pyspark: http://spark.apache.org/docs/latest/ml-collaborative-filtering.html\n",
        "\n",
        "k-nereast Neightbord en python: https://www.aprendemachinelearning.com/clasificar-con-k-nearest-neighbor-ejemplo-en-python/\n",
        "\n",
        "k-nereast Neightbord aproximación en pyspark: https://spark.apache.org/docs/2.2.0/ml-features.html#approximate-nearest-neighbor-search\n"
      ]
    },
    {
      "cell_type": "markdown",
      "metadata": {
        "id": "cjKBChYmq6je"
      },
      "source": [
        "###### ***Curso: Machine Learning en la nube***\n",
        "###### ***Autor: Marcelo Miranda Williams***"
      ]
    }
  ],
  "metadata": {
    "accelerator": "TPU",
    "colab": {
      "provenance": [],
      "gpuType": "V28",
      "include_colab_link": true
    },
    "kernelspec": {
      "display_name": "Python 3",
      "language": "python",
      "name": "python3"
    },
    "language_info": {
      "codemirror_mode": {
        "name": "ipython",
        "version": 3
      },
      "file_extension": ".py",
      "mimetype": "text/x-python",
      "name": "python",
      "nbconvert_exporter": "python",
      "pygments_lexer": "ipython3",
      "version": "3.7.6"
    }
  },
  "nbformat": 4,
  "nbformat_minor": 0
}